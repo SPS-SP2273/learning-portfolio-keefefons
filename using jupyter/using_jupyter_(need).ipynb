{
 "cells": [
  {
   "attachments": {},
   "cell_type": "markdown",
   "id": "123456",
   "metadata": {},
   "source": [
    "<div style=\"text-align:left;font-size:2em\"><span style=\"font-weight:bolder;font-size:1.25em\">SP2273 | Learning Portfolio | Keefe Fonseka</span><br><br><span style=\"font-weight:bold;color:darkred\">Using Jupyter (Need)</span></div>"
   ]
  },
  {
   "cell_type": "markdown",
   "id": "d0ff9aa0-a1ed-4abd-a89a-2d22a249c9b8",
   "metadata": {},
   "source": [
    "# A Traditinal Start"
   ]
  },
  {
   "cell_type": "code",
   "execution_count": 4,
   "id": "c4e996f2-5b36-4e74-a7bd-34655758a29d",
   "metadata": {},
   "outputs": [
    {
     "name": "stdout",
     "output_type": "stream",
     "text": [
      "Hello World!\n"
     ]
    }
   ],
   "source": [
    "print('Hello World!')"
   ]
  },
  {
   "attachments": {},
   "cell_type": "markdown",
   "id": "46a6664f",
   "metadata": {},
   "source": [
    "# All About Markdown"
   ]
  },
  {
   "cell_type": "markdown",
   "id": "21898fe0-5b4f-4315-ab00-41f029a9f519",
   "metadata": {},
   "source": [
    "The ships hung in the sky in much the same way that bricks don’t."
   ]
  },
  {
   "cell_type": "markdown",
   "id": "8b21a4f2-0f85-44a0-ac48-5becf469872e",
   "metadata": {},
   "source": [
    "The *sheeps hung in the sky* in much the same way that **bricks do**.<sup>sup</sup><sub>bic</sub>"
   ]
  },
  {
   "attachments": {},
   "cell_type": "markdown",
   "id": "eccf9072",
   "metadata": {},
   "source": [
    "## Heading\n",
    "\n",
    "# Hello\n",
    "\n",
    "## Hello\n",
    "\n",
    "### Hello\n",
    "\n",
    "#### Hello"
   ]
  },
  {
   "cell_type": "code",
   "execution_count": null,
   "id": "9f194e20-a23f-4a75-8657-bdb5b50df6fc",
   "metadata": {},
   "outputs": [],
   "source": []
  },
  {
   "cell_type": "markdown",
   "id": "44ec7039-7e21-4565-a67f-19738dac0628",
   "metadata": {},
   "source": [
    "# Top\n",
    "bglgadlcbashsfd\n",
    "\n",
    "## Lower\n",
    "xnlIOCcFNHF\n",
    "### Even Lower\n",
    "XNHiosdanhfshafdnhdsa\n",
    "#### Lowest\n",
    "gbocggasfhdc"
   ]
  },
  {
   "attachments": {},
   "cell_type": "markdown",
   "id": "b97914db",
   "metadata": {},
   "source": [
    "## Display Code"
   ]
  },
  {
   "cell_type": "markdown",
   "id": "2362455a-a85f-436f-9aa4-c6517ee23fcc",
   "metadata": {},
   "source": [
    "`print('Hello World')` This is how to mention code "
   ]
  },
  {
   "cell_type": "markdown",
   "id": "6ba0d651-3e2b-4610-aa75-34c0ce42680a",
   "metadata": {},
   "source": [
    "`This is code`"
   ]
  },
  {
   "cell_type": "markdown",
   "id": "e825ffa3-48c1-478a-9353-cb8cd625bf15",
   "metadata": {},
   "source": [
    "```python\n",
    "print('hello World!')\n",
    "x=10\n",
    "```"
   ]
  },
  {
   "cell_type": "markdown",
   "id": "432e2408-ad1c-47f8-88ae-7103ce6bd6f2",
   "metadata": {},
   "source": [
    "```python\n",
    "print('Hello World!') in\n",
    "``` \n",
    "\n",
    "This is how to mention code with syntax highlighting specific to the programming language"
   ]
  },
  {
   "attachments": {},
   "cell_type": "markdown",
   "id": "8bc8fb9e",
   "metadata": {},
   "source": [
    "## Links"
   ]
  },
  {
   "cell_type": "markdown",
   "id": "9d606429-981f-4b19-a294-1cee3cf29385",
   "metadata": {},
   "source": [
    "[THIS IS LINK TEXT](https://sps.nus.edu.sg)"
   ]
  },
  {
   "cell_type": "markdown",
   "id": "8077d594-e799-4971-9bfa-71b2b5aac5ef",
   "metadata": {},
   "source": [
    "[Free Pure Bio Notes](https://tinyurl.com/tbtnotes)"
   ]
  },
  {
   "cell_type": "markdown",
   "id": "8cb71e5c-d0e7-4b50-8645-307609c2dfc9",
   "metadata": {},
   "source": [
    "## Inserting Images"
   ]
  },
  {
   "cell_type": "markdown",
   "id": "2f02c121-7410-44c4-bc8b-ba56e00c0556",
   "metadata": {},
   "source": [
    "![](https://nus.edu.sg/images/default-source/base/logo.png)"
   ]
  },
  {
   "cell_type": "markdown",
   "id": "61b1e4f4-39af-4108-88b6-e5d0221965c8",
   "metadata": {},
   "source": [
    "![Notes](https://static.wixstatic.com/media/061220_375c00e6999f41ae89c85a8f75036f9d~mv2.png/v1/fill/w_2340,h_1494,al_c,q_95,usm_0.66_1.00_0.01,enc_auto/061220_375c00e6999f41ae89c85a8f75036f9d~mv2.png)"
   ]
  },
  {
   "attachments": {},
   "cell_type": "markdown",
   "id": "78fa5e3f",
   "metadata": {},
   "source": [
    "## Tables"
   ]
  },
  {
   "cell_type": "markdown",
   "id": "d2670bd5-8183-45d0-83ee-6f340eed8453",
   "metadata": {},
   "source": [
    "| X    |  B |  A |\n",
    "| :--- | :--: | ---: |\n",
    "| a2   |  b1  | c1 |\n",
    "| a2   |  b2  |   c2 |\n",
    "| a3   |  b3  |   c3 |\n",
    "\n",
    "`and here's how to create tables`"
   ]
  },
  {
   "attachments": {},
   "cell_type": "markdown",
   "id": "7f7fbe0e",
   "metadata": {},
   "source": [
    "## Lists"
   ]
  },
  {
   "cell_type": "markdown",
   "id": "841d8d62-8204-4ad8-88d2-9863bcb56672",
   "metadata": {},
   "source": [
    "### Numberer"
   ]
  },
  {
   "cell_type": "markdown",
   "id": "d27bf730-119a-4c35-9507-28945885dcf8",
   "metadata": {},
   "source": [
    "1. hggg\n",
    "   1. small\n",
    "   2. glbsildvsdhg \n",
    "1. aaaa\n",
    "    - gghdgsdjk\n",
    "    - nhsichgdjk \n",
    "1. dddd\n"
   ]
  },
  {
   "cell_type": "markdown",
   "id": "c6b94b35-2d05-493c-aaab-df2e5984dfc1",
   "metadata": {},
   "source": [
    "1. Master Yoda\n",
    "   1. Was a Jedi\n",
    "   1. Was a bit green\n",
    "    - testing\n",
    "- testing\n",
    "  \n",
    "   \n",
    "1. Luke Skywalker\n",
    "   1. Was a Jedi\n",
    "   1. Is Anakin's son.\n",
    "1. Anakin Skywalker\n",
    "   1. Was a Jedi then became a baddie\n",
    "   1. Is famous for saying 'Luke, I am your father'\n",
    "  \n",
    "`here's how to create more complex numbered lists`"
   ]
  },
  {
   "attachments": {},
   "cell_type": "markdown",
   "id": "c3bd6cd5",
   "metadata": {},
   "source": [
    "## 4.9 Equations"
   ]
  },
  {
   "cell_type": "markdown",
   "id": "f6701099-cf62-4825-8c6b-2aa29225b52a",
   "metadata": {},
   "source": [
    "This is a square $\\int x^2$."
   ]
  },
  {
   "cell_type": "markdown",
   "id": "94984f2d-d040-4eed-9380-33b2495aba68",
   "metadata": {},
   "source": [
    "$$\n",
    "x = \\dfrac{-b \\pm \\sqrt{b^2-4ac}}{2a}\r\n",
    "$$"
   ]
  },
  {
   "attachments": {},
   "cell_type": "markdown",
   "id": "c4a2e6ef",
   "metadata": {},
   "source": [
    "## Footnotes"
   ]
  },
  {
   "cell_type": "markdown",
   "id": "49cad59a-d0c3-4e3e-930c-09e343e7c0ec",
   "metadata": {},
   "source": [
    "For adding 1 line math eqns, or math blocks, Go to:\n",
    "- [SP2273 website](https://sps.nus.edu.sg/sp2273/docs/python_basics/01_using_jupyter/1_using-jupyter_need.html) and look for section 3.9"
   ]
  },
  {
   "cell_type": "code",
   "execution_count": null,
   "id": "39213164-e5f0-4499-bf11-497c20380210",
   "metadata": {},
   "outputs": [],
   "source": []
  }
 ],
 "metadata": {
  "kernelspec": {
   "display_name": "Python 3 (ipykernel)",
   "language": "python",
   "name": "python3"
  },
  "language_info": {
   "codemirror_mode": {
    "name": "ipython",
    "version": 3
   },
   "file_extension": ".py",
   "mimetype": "text/x-python",
   "name": "python",
   "nbconvert_exporter": "python",
   "pygments_lexer": "ipython3",
   "version": "3.11.7"
  },
  "toc": {
   "base_numbering": 1,
   "nav_menu": {},
   "number_sections": true,
   "sideBar": true,
   "skip_h1_title": false,
   "title_cell": "Table of Contents",
   "title_sidebar": "Contents",
   "toc_cell": false,
   "toc_position": {},
   "toc_section_display": true,
   "toc_window_display": false
  },
  "vscode": {
   "interpreter": {
    "hash": "31f2aee4e71d21fbe5cf8b01ff0e069b9275f58929596ceb00d14d90e3e16cd6"
   }
  }
 },
 "nbformat": 4,
 "nbformat_minor": 5
}
