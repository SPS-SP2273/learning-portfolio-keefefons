{
 "cells": [
  {
   "attachments": {},
   "cell_type": "markdown",
   "id": "123456",
   "metadata": {},
   "source": [
    "<div style=\"text-align:left;font-size:2em\"><span style=\"font-weight:bolder;font-size:1.25em\">SP2273 | Learning Portfolio | Keefe</span><br><br><span style=\"font-weight:bold;color:darkred\">Fundamentals (Good) Exercises</span></div>"
   ]
  },
  {
   "cell_type": "code",
   "execution_count": 32,
   "id": "593f6b69-1b8d-4b2c-a4d5-093543c54855",
   "metadata": {},
   "outputs": [
    {
     "name": "stdin",
     "output_type": "stream",
     "text": [
      "Give me a number? 2\n"
     ]
    },
    {
     "name": "stdout",
     "output_type": "stream",
     "text": [
      "You entered 2\n"
     ]
    }
   ],
   "source": [
    "user_input = input('Give me a number?')\n",
    "print('You entered', user_input)"
   ]
  },
  {
   "cell_type": "code",
   "execution_count": 47,
   "id": "563a1c88-1826-4e53-b8b4-bf9d52320b67",
   "metadata": {},
   "outputs": [
    {
     "name": "stdin",
     "output_type": "stream",
     "text": [
      "Enter the student's score, an integer from 0 to 100: 0.1\n"
     ]
    },
    {
     "name": "stdout",
     "output_type": "stream",
     "text": [
      "\n",
      "\n",
      "I said enter an integer. Well done, smooth-brain. Try again.\n"
     ]
    }
   ],
   "source": [
    "# Getting the score\n",
    "\n",
    "x = input('Enter the student\\'s score, an integer from 0 to 100:')\n",
    "\n",
    "try:\n",
    "    #converts score to integer\n",
    "    x = int(x)\n",
    "\n",
    "    \n",
    "    #checking whether score is in which range\n",
    "    \n",
    "    if 69 < x < 101:\n",
    "        print('\\n\\nThe student\\'s letter grade is: A')\n",
    "    \n",
    "    elif 49 < x < 70:\n",
    "        print('\\n\\nThe student\\'s letter grade is: B')\n",
    "    \n",
    "    elif 34 < x < 50:\n",
    "        print('\\n\\nThe student\\'s letter grade is: C')\n",
    "            \n",
    "    elif -1 < x < 35:\n",
    "        print('\\n\\nThe student\\'s letter grade is: Fail')\n",
    "\n",
    "\n",
    "    #if people enter an integer bigger or smaller than the possible scores of the exam\n",
    "    else:\n",
    "        print('\\n\\nDon\\'t BS. How could that be the score? Try again.')\n",
    "\n",
    "\n",
    "except:\n",
    "    #if people fail to enter an integer, tell them start over.\n",
    "    print('\\n\\nI said enter an integer. Well done, smooth-brain. Try again.')"
   ]
  },
  {
   "cell_type": "code",
   "execution_count": null,
   "id": "55ed0bc1-4eca-4991-9b08-01374d73db59",
   "metadata": {},
   "outputs": [],
   "source": []
  }
 ],
 "metadata": {
  "kernelspec": {
   "display_name": "Python 3 (ipykernel)",
   "language": "python",
   "name": "python3"
  },
  "language_info": {
   "codemirror_mode": {
    "name": "ipython",
    "version": 3
   },
   "file_extension": ".py",
   "mimetype": "text/x-python",
   "name": "python",
   "nbconvert_exporter": "python",
   "pygments_lexer": "ipython3",
   "version": "3.11.7"
  },
  "toc": {
   "base_numbering": 1,
   "nav_menu": {},
   "number_sections": true,
   "sideBar": true,
   "skip_h1_title": false,
   "title_cell": "Table of Contents",
   "title_sidebar": "Contents",
   "toc_cell": false,
   "toc_position": {},
   "toc_section_display": true,
   "toc_window_display": false
  },
  "vscode": {
   "interpreter": {
    "hash": "31f2aee4e71d21fbe5cf8b01ff0e069b9275f58929596ceb00d14d90e3e16cd6"
   }
  }
 },
 "nbformat": 4,
 "nbformat_minor": 5
}
