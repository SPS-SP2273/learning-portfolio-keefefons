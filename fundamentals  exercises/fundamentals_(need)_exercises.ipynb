{
 "cells": [
  {
   "attachments": {},
   "cell_type": "markdown",
   "id": "123456",
   "metadata": {},
   "source": [
    "<div style=\"text-align:left;font-size:2em\"><span style=\"font-weight:bolder;font-size:1.25em\">SP2273 | Learning Portfolio</span><br><br><span style=\"font-weight:bold;color:darkred\">Fundamentals (Need) Exercises</span></div>"
   ]
  },
  {
   "cell_type": "markdown",
   "id": "c314e147-93ad-41e4-aa3f-2ca49099cc28",
   "metadata": {},
   "source": [
    "# Total recall"
   ]
  },
  {
   "cell_type": "markdown",
   "id": "1fb564e2-60a6-427c-85c9-e9f5a8963665",
   "metadata": {},
   "source": [
    "basic Python features mentioned:\n",
    "\n",
    "```python\n",
    "print() function\n",
    "Case sensitivity (Python is case-sensitive)\n",
    "Comments (using #)\n",
    "Defining functions\n",
    "The Python interpreter\n",
    "NameError exceptions\n",
    "Importing packages (e.g., math, numpy)\n",
    "Dictionaries and accessing data within them\n",
    "Conditional statements (using if, else)\n",
    "Equality and assignment operators (== and =)\n",
    "Indentation significance\n",
    "Lists and accessing elements within them\n",
    "The dot (.) for attribute access\n",
    "```\n"
   ]
  },
  {
   "cell_type": "markdown",
   "id": "79c768b7-4374-4fef-a310-b3a3954a5373",
   "metadata": {},
   "source": [
    "# Debug me"
   ]
  },
  {
   "cell_type": "code",
   "execution_count": 8,
   "id": "4ecb3567-0b4f-4065-83c6-b4e41317500e",
   "metadata": {},
   "outputs": [
    {
     "name": "stdout",
     "output_type": "stream",
     "text": [
      "3 4 5.0\n"
     ]
    }
   ],
   "source": [
    "x, y = 3, 4\n",
    "\n",
    "import math\n",
    "\n",
    "z = math.sqrt(x**2 + y**2)\n",
    "\n",
    "print(x, y, z)"
   ]
  },
  {
   "cell_type": "markdown",
   "id": "2d289106-d113-47e1-8c08-cbe863d45ab9",
   "metadata": {},
   "source": [
    "# In your own words"
   ]
  },
  {
   "cell_type": "markdown",
   "id": "d82b2845-7c26-418a-bee3-06a7af3bb779",
   "metadata": {},
   "source": [
    "| **#** | **Term**     | **Description**                                                                               |\n",
    "|-------|--------------|-----------------------------------------------------------------------------------------------|\n",
    "| 1     | Function     | Performs a specific task when called                                                          |\n",
    "| 2     | Arguments    | Values you put in the () of a function                                                        |\n",
    "| 3     | Comments     | Notes in the code that explain what it does and are not executed by Python.                   |\n",
    "| 4     | Indentations | Spaces in front of a line of code that Python uses to determine the grouping of statements.   |\n",
    "| 5     | Packages     | Modules that extend Python's built-in capabilities, such as by providing additional functions |\n",
    "| 6     | .            | To access functions that belong to a module                                                   |\n",
    "| 7     | :            | To start an indented block after defining a function                                          |\n",
    "| 8     | []           | For creating lists                                                                            |\n",
    "| 9     | [[[]]]       | Nesting lists within lists                                                                    |\n",
    "| 10    | {}           | To define dictionaries                                                                        |"
   ]
  },
  {
   "cell_type": "markdown",
   "id": "0eb7041b-eace-4296-b1bb-ef4309517d33",
   "metadata": {},
   "source": [
    "# More than one way to divide"
   ]
  },
  {
   "cell_type": "code",
   "execution_count": 10,
   "id": "244a7e76-9c55-443c-abd0-94904e6e6b85",
   "metadata": {},
   "outputs": [
    {
     "data": {
      "text/plain": [
       "2.5"
      ]
     },
     "execution_count": 10,
     "metadata": {},
     "output_type": "execute_result"
    }
   ],
   "source": [
    "5/2           # Divides 5 by 2"
   ]
  },
  {
   "cell_type": "code",
   "execution_count": 11,
   "id": "714720dc-4b91-4518-b2a3-294b33c3b0bd",
   "metadata": {},
   "outputs": [
    {
     "data": {
      "text/plain": [
       "2"
      ]
     },
     "execution_count": 11,
     "metadata": {},
     "output_type": "execute_result"
    }
   ],
   "source": [
    "5//2           # Divides 5 by 2 and gives the quotient, rounded down."
   ]
  },
  {
   "cell_type": "code",
   "execution_count": 12,
   "id": "dd5c0b99-3fab-4da0-af94-e2149e4bdaed",
   "metadata": {},
   "outputs": [
    {
     "data": {
      "text/plain": [
       "1"
      ]
     },
     "execution_count": 12,
     "metadata": {},
     "output_type": "execute_result"
    }
   ],
   "source": [
    "5%2           # Divides 5 by 2 and gives the remainder"
   ]
  },
  {
   "cell_type": "code",
   "execution_count": null,
   "id": "3276f64e-7a4f-46c9-9a47-7560ae719137",
   "metadata": {},
   "outputs": [],
   "source": []
  }
 ],
 "metadata": {
  "kernelspec": {
   "display_name": "Python 3 (ipykernel)",
   "language": "python",
   "name": "python3"
  },
  "language_info": {
   "codemirror_mode": {
    "name": "ipython",
    "version": 3
   },
   "file_extension": ".py",
   "mimetype": "text/x-python",
   "name": "python",
   "nbconvert_exporter": "python",
   "pygments_lexer": "ipython3",
   "version": "3.11.7"
  },
  "toc": {
   "base_numbering": 1,
   "nav_menu": {},
   "number_sections": true,
   "sideBar": true,
   "skip_h1_title": false,
   "title_cell": "Table of Contents",
   "title_sidebar": "Contents",
   "toc_cell": false,
   "toc_position": {},
   "toc_section_display": true,
   "toc_window_display": false
  },
  "vscode": {
   "interpreter": {
    "hash": "31f2aee4e71d21fbe5cf8b01ff0e069b9275f58929596ceb00d14d90e3e16cd6"
   }
  }
 },
 "nbformat": 4,
 "nbformat_minor": 5
}
