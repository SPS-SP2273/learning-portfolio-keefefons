{
 "cells": [
  {
   "attachments": {},
   "cell_type": "markdown",
   "id": "123456",
   "metadata": {},
   "source": [
    "<div style=\"text-align:left;font-size:2em\"><span style=\"font-weight:bolder;font-size:1.25em\">SP2273 | Learning Portfolio</span><br><br><span style=\"font-weight:bold;color:darkred\">Fundamentals (Need) Exercises</span></div>"
   ]
  },
  {
   "cell_type": "markdown",
   "id": "c314e147-93ad-41e4-aa3f-2ca49099cc28",
   "metadata": {},
   "source": [
    "# Total recall"
   ]
  },
  {
   "cell_type": "markdown",
   "id": "1fb564e2-60a6-427c-85c9-e9f5a8963665",
   "metadata": {},
   "source": [
    "basic Python features mentioned:\n",
    "\n",
    "```python\n",
    "print() function\n",
    "Case sensitivity (Python is case-sensitive)\n",
    "Comments (using #)\n",
    "Defining functions\n",
    "The Python interpreter\n",
    "NameError exceptions\n",
    "Importing packages (e.g., math, numpy)\n",
    "Dictionaries and accessing data within them\n",
    "Conditional statements (using if, else)\n",
    "Equality and assignment operators (== and =)\n",
    "Indentation significance\n",
    "Lists and accessing elements within them\n",
    "The dot (.) for attribute access\n",
    "```\n"
   ]
  },
  {
   "cell_type": "markdown",
   "id": "79c768b7-4374-4fef-a310-b3a3954a5373",
   "metadata": {},
   "source": [
    "# Debug me"
   ]
  },
  {
   "cell_type": "code",
   "execution_count": null,
   "id": "4ecb3567-0b4f-4065-83c6-b4e41317500e",
   "metadata": {},
   "outputs": [],
   "source": []
  },
  {
   "cell_type": "code",
   "execution_count": null,
   "id": "30cf65cf-a8f2-48ce-910f-0c7976ad7022",
   "metadata": {},
   "outputs": [],
   "source": []
  },
  {
   "cell_type": "markdown",
   "id": "2d289106-d113-47e1-8c08-cbe863d45ab9",
   "metadata": {},
   "source": [
    "# In your own words"
   ]
  },
  {
   "cell_type": "code",
   "execution_count": null,
   "id": "f1afbcd4-f3d4-4e7a-950e-b9617748a3c7",
   "metadata": {},
   "outputs": [],
   "source": []
  },
  {
   "cell_type": "code",
   "execution_count": null,
   "id": "09acc2e8-ce09-45f1-bb99-cbde96b8bb80",
   "metadata": {},
   "outputs": [],
   "source": []
  }
 ],
 "metadata": {
  "kernelspec": {
   "display_name": "Python 3 (ipykernel)",
   "language": "python",
   "name": "python3"
  },
  "language_info": {
   "codemirror_mode": {
    "name": "ipython",
    "version": 3
   },
   "file_extension": ".py",
   "mimetype": "text/x-python",
   "name": "python",
   "nbconvert_exporter": "python",
   "pygments_lexer": "ipython3",
   "version": "3.11.7"
  },
  "toc": {
   "base_numbering": 1,
   "nav_menu": {},
   "number_sections": true,
   "sideBar": true,
   "skip_h1_title": false,
   "title_cell": "Table of Contents",
   "title_sidebar": "Contents",
   "toc_cell": false,
   "toc_position": {},
   "toc_section_display": true,
   "toc_window_display": false
  },
  "vscode": {
   "interpreter": {
    "hash": "31f2aee4e71d21fbe5cf8b01ff0e069b9275f58929596ceb00d14d90e3e16cd6"
   }
  }
 },
 "nbformat": 4,
 "nbformat_minor": 5
}
