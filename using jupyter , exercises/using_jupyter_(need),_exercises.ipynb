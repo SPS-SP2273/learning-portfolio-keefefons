{
 "cells": [
  {
   "attachments": {},
   "cell_type": "markdown",
   "id": "123456",
   "metadata": {},
   "source": [
    "<div style=\"text-align:left;font-size:2em\"><span style=\"font-weight:bolder;font-size:1.25em\">SP2273 | Learning Portfolio | Keefe</span><br><br><span style=\"font-weight:bold;color:darkred\">Using Jupyter (Need), Exercises</span></div>"
   ]
  },
  {
   "cell_type": "markdown",
   "id": "97dcc373-3170-4b17-8f35-97e7f4ed325c",
   "metadata": {},
   "source": [
    "# **Exercise 1**"
   ]
  },
  {
   "attachments": {},
   "cell_type": "markdown",
   "id": "6ba2bc6a",
   "metadata": {},
   "source": [
    "## Quadratic Equations"
   ]
  },
  {
   "attachments": {},
   "cell_type": "markdown",
   "id": "ec32a7fb",
   "metadata": {},
   "source": [
    "### Introduction"
   ]
  },
  {
   "cell_type": "code",
   "execution_count": null,
   "id": "c0f81e1b-44ac-4ed2-91e0-fb017a02fd83",
   "metadata": {},
   "outputs": [],
   "source": [
    "# Your code here"
   ]
  },
  {
   "cell_type": "markdown",
   "id": "c46cfad9-2e3c-4771-8637-f096b89657a7",
   "metadata": {},
   "source": [
    "![](https://upload.wikimedia.org/wikipedia/commons/thumb/f/f8/Polynomialdeg2.svg/600px-Polynomialdeg2.svg.png)\n"
   ]
  },
  {
   "cell_type": "markdown",
   "id": "de0e91c0-6c3f-4ac8-8216-f4761db4e414",
   "metadata": {},
   "source": [
    "_(Image from the_ [_Wikipedia page on Quadratic equations)_](https://en.wikipedia.org/wiki/Quadratic_equation)"
   ]
  },
  {
   "cell_type": "markdown",
   "id": "ee9ed1bf-667e-4569-9af6-30379bef106c",
   "metadata": {},
   "source": [
    "The general form of a quadratic equation is:"
   ]
  },
  {
   "cell_type": "markdown",
   "id": "cfd5f216-688b-470e-b4ba-cc3462c1782e",
   "metadata": {},
   "source": [
    "$$\n",
    "ax^2 + bx + c = 0\n",
    "$$\n"
   ]
  },
  {
   "attachments": {},
   "cell_type": "markdown",
   "id": "314189c9",
   "metadata": {},
   "source": [
    "### Solutions"
   ]
  },
  {
   "cell_type": "code",
   "execution_count": null,
   "id": "c603b6e0",
   "metadata": {},
   "outputs": [],
   "source": [
    "\n",
    "# Your code here\n"
   ]
  },
  {
   "cell_type": "markdown",
   "id": "28e71d0f-5a66-43a5-92f9-ce9cd487bcff",
   "metadata": {},
   "source": [
    "Provided $a \\ne 0$, we can use an elementary algebraic method called [completing the square](https://en.wikipedia.org/wiki/Completing_the_square) to show that a quadratic equation has the following solution:"
   ]
  },
  {
   "cell_type": "markdown",
   "id": "c5bc25f5-f3f0-4b04-adc5-0090451e8815",
   "metadata": {},
   "source": [
    "$$\n",
    "x = \\dfrac{-b \\pm \\sqrt{b^2-4ac}}{2a}\n",
    "$$"
   ]
  },
  {
   "attachments": {},
   "cell_type": "markdown",
   "id": "51e9b2da",
   "metadata": {},
   "source": [
    "### Discriminant"
   ]
  },
  {
   "cell_type": "code",
   "execution_count": null,
   "id": "7b34a8ee",
   "metadata": {},
   "outputs": [],
   "source": [
    "\n",
    "# Your code here\n"
   ]
  },
  {
   "cell_type": "markdown",
   "id": "0405fc7d-a1e0-4e4f-b453-d3fd3d40cdc5",
   "metadata": {},
   "source": [
    "The quantity $\\Delta = \\sqrt{b^2-4ac}$ is called the **discriminant** of the equation and decides the nature of its solutions. The table below shows the various possibilities."
   ]
  },
  {
   "cell_type": "markdown",
   "id": "8d8676cf-4919-4d94-b2ee-565b3f954329",
   "metadata": {},
   "source": [
    "| Discriminant  | Roots  |\n",
    "|---|---|\n",
    "|  $\\Delta = \\sqrt{b^2-4ac} = 0$ | A single solution of $ -b/2a $ |\n",
    "|  $\\Delta = \\sqrt{b^2-4ac} > 0$ |  Two distinct solutions |\n",
    "|  $\\Delta = \\sqrt{b^2-4ac} < 0$ |  No real solutions; both are complex. |"
   ]
  },
  {
   "cell_type": "markdown",
   "id": "7553f420-fe91-4b01-98cb-8b9941d870b7",
   "metadata": {},
   "source": [
    "# **Exercise 2**"
   ]
  },
  {
   "cell_type": "markdown",
   "id": "a2c69a5c-345b-491d-91f7-e23baaa75d1f",
   "metadata": {},
   "source": [
    "1. A Git repository is a digital directory or storage space where Git can save versions of your code or content.\n",
    "1. Git keeps track of changes in the files in our repository.\n",
    "1. A commit in Git represents a snapshot of the repository, capturing the current state of the tracked files.\n",
    "1. A push in Git sends your local commits to the remote repository.\n",
    "1. A pull in Git fetches and integrates changes from a remote repository into your local branch.\n",
    "1. GitHub is a web-based hosting service for Git repositories, while GitHub Desktop is an application that simplifies the Git commands for user-friendly repository management on your computer."
   ]
  }
 ],
 "metadata": {
  "kernelspec": {
   "display_name": "Python 3 (ipykernel)",
   "language": "python",
   "name": "python3"
  },
  "language_info": {
   "codemirror_mode": {
    "name": "ipython",
    "version": 3
   },
   "file_extension": ".py",
   "mimetype": "text/x-python",
   "name": "python",
   "nbconvert_exporter": "python",
   "pygments_lexer": "ipython3",
   "version": "3.11.7"
  },
  "toc": {
   "base_numbering": 1,
   "nav_menu": {},
   "number_sections": true,
   "sideBar": true,
   "skip_h1_title": false,
   "title_cell": "Table of Contents",
   "title_sidebar": "Contents",
   "toc_cell": false,
   "toc_position": {},
   "toc_section_display": true,
   "toc_window_display": false
  },
  "vscode": {
   "interpreter": {
    "hash": "31f2aee4e71d21fbe5cf8b01ff0e069b9275f58929596ceb00d14d90e3e16cd6"
   }
  }
 },
 "nbformat": 4,
 "nbformat_minor": 5
}
