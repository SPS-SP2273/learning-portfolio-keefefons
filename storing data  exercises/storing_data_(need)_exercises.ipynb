{
 "cells": [
  {
   "attachments": {},
   "cell_type": "markdown",
   "id": "123456",
   "metadata": {},
   "source": [
    "<div style=\"text-align:left;font-size:2em\"><span style=\"font-weight:bolder;font-size:1.25em\">SP2273 | Learning Portfolio | Keefe</span><br><br><span style=\"font-weight:bold;color:darkred\">Storing Data (Need) Exercises</span></div>"
   ]
  },
  {
   "cell_type": "markdown",
   "id": "68fd388e-40ab-4f7a-bcf7-d32ff7a223cd",
   "metadata": {},
   "source": [
    "# Exercise 1"
   ]
  },
  {
   "cell_type": "markdown",
   "id": "555408e4-5630-4b80-b3a5-0b9666328b2c",
   "metadata": {},
   "source": [
    "`Two similarities between lists and arrays:`\n",
    "\n",
    "1. both store data\n",
    "2. both can be summed up"
   ]
  },
  {
   "cell_type": "markdown",
   "id": "a8cab839-4a5a-4104-8452-c63da906e754",
   "metadata": {},
   "source": [
    "`Two differences between lists and arrays:`\n",
    "\n",
    "1. operations on lists work on the whole thing while those on an array work on inidivudal values within array\n",
    "2. you can use numpy.std() and numpy.mean() on arrays but not on lists, i.e you can't use python_list.mean() or python_list.std()"
   ]
  },
  {
   "cell_type": "markdown",
   "id": "78c924eb-4cd8-45ff-887c-02e0aff85613",
   "metadata": {},
   "source": [
    "`A dictionary:`\n",
    "\n",
    "A form of data storage, that stores data in key-value pairs"
   ]
  },
  {
   "cell_type": "markdown",
   "id": "62c6b0e2-5839-4ed5-86c3-ca5064278f76",
   "metadata": {},
   "source": [
    "# Exercise 2"
   ]
  },
  {
   "cell_type": "code",
   "execution_count": 2,
   "id": "4e81e9fb-8d2d-4445-b350-32fa3124e02b",
   "metadata": {},
   "outputs": [
    {
     "name": "stdout",
     "output_type": "stream",
     "text": [
      "a1\n",
      "c3\n",
      "e5\n",
      "g7\n",
      "i9\n"
     ]
    }
   ],
   "source": [
    "py_list = [\"a1\", \"b2\", \"c3\", \"d4\", \"e5\", \"f6\", \"g7\", \"h8\", \"i9\", \"j10\"]\n",
    "print(py_list[0])   # Prints 'a1'\n",
    "print(py_list[2])   # Prints 'c3'\n",
    "print(py_list[4])   # Prints 'e5'\n",
    "print(py_list[6])   # Prints 'g7'\n",
    "print(py_list[8])   # Prints 'i9'"
   ]
  },
  {
   "cell_type": "markdown",
   "id": "a2378806-8c55-496d-9c3e-d94c8a597068",
   "metadata": {},
   "source": [
    "# Exercise 3"
   ]
  },
  {
   "cell_type": "code",
   "execution_count": 5,
   "id": "b03f0278-88e5-4c2a-9e70-66918ee709bd",
   "metadata": {},
   "outputs": [],
   "source": [
    "elements = ['Hydrogen',\n",
    "            'Helium', 'Lithium',\n",
    "            'Beryllium', 'Boron', 'Carbon',\n",
    "            'Nitrogen', 'Oxygen',\n",
    "            'Fluorine',\n",
    "            'Neon']"
   ]
  },
  {
   "cell_type": "code",
   "execution_count": 6,
   "id": "9c3fade8-503c-4b80-8b11-5a39670c26a2",
   "metadata": {},
   "outputs": [
    {
     "name": "stdout",
     "output_type": "stream",
     "text": [
      "Boron\n"
     ]
    }
   ],
   "source": [
    "print(elements[4])"
   ]
  },
  {
   "cell_type": "code",
   "execution_count": 7,
   "id": "fbaf0918-14cb-48f0-9ef1-0223068b568c",
   "metadata": {},
   "outputs": [
    {
     "name": "stdout",
     "output_type": "stream",
     "text": [
      "Boron\n"
     ]
    }
   ],
   "source": [
    "print(elements[-6])"
   ]
  },
  {
   "cell_type": "markdown",
   "id": "d0109a04-e317-415b-90b3-f5bc3cdf338b",
   "metadata": {},
   "source": [
    "# Exercise 4"
   ]
  },
  {
   "cell_type": "code",
   "execution_count": 12,
   "id": "19461269-d23d-4ab7-bd92-202678f97691",
   "metadata": {},
   "outputs": [],
   "source": [
    "numbers=[45, 60, 1, 30, 96, 1, 96, 57, 16, 1,\n",
    "        99, 62, 86, 43, 42, 60, 59, 1, 1, 35,\n",
    "        83, 47, 34, 28, 68, 23, 22, 92, 1, 79,\n",
    "        1, 29, 94, 72, 46, 47, 1, 74, 32, 20,\n",
    "        8, 37, 35, 1, 89, 29, 86, 19, 43, 61]         \n",
    "\n",
    "import numpy as np\n",
    "\n",
    "np_numbers = np.array(numbers)"
   ]
  },
  {
   "cell_type": "code",
   "execution_count": 18,
   "id": "e443deaf-6cd7-40af-9102-7942fc92466b",
   "metadata": {},
   "outputs": [
    {
     "data": {
      "text/plain": [
       "array([False, False,  True, False, False,  True, False, False, False,\n",
       "        True, False, False, False, False, False, False, False,  True,\n",
       "        True, False, False, False, False, False, False, False, False,\n",
       "       False,  True, False,  True, False, False, False, False, False,\n",
       "        True, False, False, False, False, False, False,  True, False,\n",
       "       False, False, False, False, False])"
      ]
     },
     "execution_count": 18,
     "metadata": {},
     "output_type": "execute_result"
    }
   ],
   "source": [
    "np_numbers == 1"
   ]
  },
  {
   "cell_type": "code",
   "execution_count": 20,
   "id": "0cb629c8-496c-4dea-83b9-8865c5bb2096",
   "metadata": {},
   "outputs": [],
   "source": [
    "True_count = (np_numbers == 1)"
   ]
  },
  {
   "cell_type": "code",
   "execution_count": 21,
   "id": "20b37744-5a94-4803-abfe-c4bffd5e0d88",
   "metadata": {},
   "outputs": [
    {
     "data": {
      "text/plain": [
       "9"
      ]
     },
     "execution_count": 21,
     "metadata": {},
     "output_type": "execute_result"
    }
   ],
   "source": [
    "True_count.sum()"
   ]
  },
  {
   "cell_type": "code",
   "execution_count": null,
   "id": "5d948100-843d-4b3b-88d7-865954710826",
   "metadata": {},
   "outputs": [],
   "source": []
  }
 ],
 "metadata": {
  "kernelspec": {
   "display_name": "Python 3 (ipykernel)",
   "language": "python",
   "name": "python3"
  },
  "language_info": {
   "codemirror_mode": {
    "name": "ipython",
    "version": 3
   },
   "file_extension": ".py",
   "mimetype": "text/x-python",
   "name": "python",
   "nbconvert_exporter": "python",
   "pygments_lexer": "ipython3",
   "version": "3.11.7"
  },
  "toc": {
   "base_numbering": 1,
   "nav_menu": {},
   "number_sections": true,
   "sideBar": true,
   "skip_h1_title": false,
   "title_cell": "Table of Contents",
   "title_sidebar": "Contents",
   "toc_cell": false,
   "toc_position": {},
   "toc_section_display": true,
   "toc_window_display": false
  },
  "vscode": {
   "interpreter": {
    "hash": "31f2aee4e71d21fbe5cf8b01ff0e069b9275f58929596ceb00d14d90e3e16cd6"
   }
  }
 },
 "nbformat": 4,
 "nbformat_minor": 5
}
