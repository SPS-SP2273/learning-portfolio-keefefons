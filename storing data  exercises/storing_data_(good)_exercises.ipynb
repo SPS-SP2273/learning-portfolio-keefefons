{
 "cells": [
  {
   "attachments": {},
   "cell_type": "markdown",
   "id": "123456",
   "metadata": {},
   "source": [
    "<div style=\"text-align:left;font-size:2em\"><span style=\"font-weight:bolder;font-size:1.25em\">SP2273 | Learning Portfolio | Keefe</span><br><br><span style=\"font-weight:bold;color:darkred\">Storing Data (Good) Exercises</span></div>"
   ]
  },
  {
   "cell_type": "markdown",
   "id": "219b78ff-028d-4821-bdf3-9b451ee82447",
   "metadata": {},
   "source": [
    "# Exercise 1"
   ]
  },
  {
   "cell_type": "markdown",
   "id": "3f21974f-d5f9-41f8-9c9a-5d765bd7c557",
   "metadata": {},
   "source": [
    "- Subsetting = to select a part of a list\n",
    "- Indexing = to select a specific value from a list\n",
    "- Slicing = to select a range of values from a list\n",
    "- Masking = to show only those values from the list which meet the requirement you set\n"
   ]
  },
  {
   "cell_type": "code",
   "execution_count": null,
   "id": "aefb1855-a426-4edc-b98b-d15c7bf3715b",
   "metadata": {},
   "outputs": [],
   "source": []
  },
  {
   "cell_type": "markdown",
   "id": "76157080-cf57-4a87-adc5-e8b2016be0b5",
   "metadata": {},
   "source": [
    "# Exercise 2"
   ]
  },
  {
   "cell_type": "code",
   "execution_count": 3,
   "id": "b87d35b0-f6ef-43b4-b78e-f4d0ffe279c8",
   "metadata": {},
   "outputs": [],
   "source": [
    "import numpy as np"
   ]
  },
  {
   "cell_type": "code",
   "execution_count": 4,
   "id": "88c79521-dc30-4394-b941-c2c8b5bf0f1e",
   "metadata": {},
   "outputs": [],
   "source": [
    "np_array_2d = np.array([[1, \"A\"], [3, \"C\"], [2, \"B\"], [4, \"D\"],\n",
    "                        [5, \"E\"], [7, \"G\"], [6, \"F\"], [8, \"H\"],\n",
    "                        [10, \"J\"], [9, \"I\"]])"
   ]
  },
  {
   "cell_type": "code",
   "execution_count": 21,
   "id": "b9702b9c-abee-4d7c-b2c0-475d0a8f55c4",
   "metadata": {},
   "outputs": [],
   "source": [
    "first_numbers = np_array_2d[:,0]"
   ]
  },
  {
   "cell_type": "code",
   "execution_count": 18,
   "id": "3f048df1-659c-44e1-8a91-71efbee1a250",
   "metadata": {},
   "outputs": [
    {
     "name": "stdout",
     "output_type": "stream",
     "text": [
      "['1' '3' '2' '4' '5' '7' '6' '8' '10' '9']\n"
     ]
    }
   ],
   "source": [
    "print(first_numbers)"
   ]
  },
  {
   "cell_type": "code",
   "execution_count": 28,
   "id": "2bd67553-4719-443b-b745-fb18b7c9a68d",
   "metadata": {},
   "outputs": [],
   "source": [
    "first_numbers = first_numbers.astype(int)"
   ]
  },
  {
   "cell_type": "code",
   "execution_count": 29,
   "id": "9f7e4221-f701-48b6-ad87-87ed1b9260f5",
   "metadata": {},
   "outputs": [
    {
     "data": {
      "text/plain": [
       "array([ 1,  3,  2,  4,  5,  7,  6,  8, 10,  9])"
      ]
     },
     "execution_count": 29,
     "metadata": {},
     "output_type": "execute_result"
    }
   ],
   "source": [
    "first_numbers"
   ]
  },
  {
   "cell_type": "code",
   "execution_count": 33,
   "id": "51d3d86e-1db4-413b-8ca7-15d34ffad224",
   "metadata": {},
   "outputs": [
    {
     "data": {
      "text/plain": [
       "array([1, 1, 0, 0, 1, 1, 0, 0, 0, 1])"
      ]
     },
     "execution_count": 33,
     "metadata": {},
     "output_type": "execute_result"
    }
   ],
   "source": [
    "remainder = first_numbers%2\n",
    "\n",
    "remainder"
   ]
  },
  {
   "cell_type": "code",
   "execution_count": 39,
   "id": "e049eb2e-e723-46c4-9cf1-7862ed74cc9c",
   "metadata": {},
   "outputs": [
    {
     "data": {
      "text/plain": [
       "array([ True,  True, False, False,  True,  True, False, False, False,\n",
       "        True])"
      ]
     },
     "execution_count": 39,
     "metadata": {},
     "output_type": "execute_result"
    }
   ],
   "source": [
    "True_count = remainder > 0\n",
    "\n",
    "True_count"
   ]
  },
  {
   "cell_type": "code",
   "execution_count": 42,
   "id": "21b144fa-1351-497c-bea8-eccfea04cecc",
   "metadata": {},
   "outputs": [
    {
     "data": {
      "text/plain": [
       "array(['A', 'C', 'E', 'G', 'I'], dtype='<U21')"
      ]
     },
     "execution_count": 42,
     "metadata": {},
     "output_type": "execute_result"
    }
   ],
   "source": [
    "np_array_2d[True_count, 1]"
   ]
  },
  {
   "cell_type": "code",
   "execution_count": null,
   "id": "75c22fba-04f0-4071-a2f4-38388c31d67b",
   "metadata": {},
   "outputs": [],
   "source": []
  }
 ],
 "metadata": {
  "kernelspec": {
   "display_name": "Python 3 (ipykernel)",
   "language": "python",
   "name": "python3"
  },
  "language_info": {
   "codemirror_mode": {
    "name": "ipython",
    "version": 3
   },
   "file_extension": ".py",
   "mimetype": "text/x-python",
   "name": "python",
   "nbconvert_exporter": "python",
   "pygments_lexer": "ipython3",
   "version": "3.11.7"
  },
  "toc": {
   "base_numbering": 1,
   "nav_menu": {},
   "number_sections": true,
   "sideBar": true,
   "skip_h1_title": false,
   "title_cell": "Table of Contents",
   "title_sidebar": "Contents",
   "toc_cell": false,
   "toc_position": {},
   "toc_section_display": true,
   "toc_window_display": false
  },
  "vscode": {
   "interpreter": {
    "hash": "31f2aee4e71d21fbe5cf8b01ff0e069b9275f58929596ceb00d14d90e3e16cd6"
   }
  }
 },
 "nbformat": 4,
 "nbformat_minor": 5
}
