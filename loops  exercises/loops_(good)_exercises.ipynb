{
 "cells": [
  {
   "attachments": {},
   "cell_type": "markdown",
   "id": "123456",
   "metadata": {},
   "source": [
    "<div style=\"text-align:left;font-size:2em\"><span style=\"font-weight:bolder;font-size:1.25em\">SP2273 | Learning Portfolio | Keefe Fonseka</span><br><br><span style=\"font-weight:bold;color:darkred\">Loops (Good) Exercises</span></div>"
   ]
  },
  {
   "cell_type": "code",
   "execution_count": 16,
   "id": "0b14dbc1-dcb4-4abe-9607-758dff084824",
   "metadata": {},
   "outputs": [
    {
     "name": "stdout",
     "output_type": "stream",
     "text": [
      "1\n",
      "3\n",
      "5\n",
      "7\n",
      "9\n"
     ]
    }
   ],
   "source": [
    "for i in range(10):\n",
    "    if i % 2 ==0: \n",
    "        continue\n",
    "\n",
    "    print(i)"
   ]
  },
  {
   "cell_type": "code",
   "execution_count": 3,
   "id": "6fc33d6a-43d5-4a05-bab0-fbb2e061992a",
   "metadata": {},
   "outputs": [
    {
     "data": {
      "text/plain": [
       "[1, 3, 5, 7, 9]"
      ]
     },
     "execution_count": 3,
     "metadata": {},
     "output_type": "execute_result"
    }
   ],
   "source": [
    "[number for number in range(10) if number % 2 ==1]"
   ]
  },
  {
   "cell_type": "code",
   "execution_count": null,
   "id": "30d24a9a-acaa-442d-9386-6ea8b5d10f8e",
   "metadata": {},
   "outputs": [],
   "source": [
    "%%timeit\n",
    "[number for number in range(10) if number % 2 ==1]\n",
    "\n",
    "#this is faster!\n",
    "#i ran timeit but it caused a lot of lag, so i'm not running it here"
   ]
  },
  {
   "cell_type": "code",
   "execution_count": null,
   "id": "052759df-0e10-4fe6-8eeb-516282be6ef9",
   "metadata": {},
   "outputs": [],
   "source": [
    "%%timeit\n",
    "for i in range(10):\n",
    "    if i % 2 ==0: \n",
    "        continue\n",
    "\n",
    "    print(i)"
   ]
  },
  {
   "cell_type": "code",
   "execution_count": 17,
   "id": "b5af2511-f921-429f-9aee-7a73d9fce308",
   "metadata": {},
   "outputs": [
    {
     "name": "stdout",
     "output_type": "stream",
     "text": [
      "It takes 14 years for the sample to reduce to half its original amount.\n"
     ]
    }
   ],
   "source": [
    "quantity = 100  # Initial quantity\n",
    "half_original = quantity / 2  # Half of the original quantity\n",
    "years = 0  # Initialize years counter\n",
    "\n",
    "# While loop to simulate radioactive decay until quantity reduces to half\n",
    "while quantity > half_original:\n",
    "    quantity *= 0.95  # Decays by 5% each year\n",
    "    years += 1  # Increment years counter\n",
    "\n",
    "print(\"It takes\", years, \"years for the sample to reduce to half its original amount.\")\n"
   ]
  },
  {
   "cell_type": "code",
   "execution_count": 19,
   "id": "ed571661-7623-4927-94e4-5392e1525641",
   "metadata": {},
   "outputs": [],
   "source": [
    "co2_data = [\n",
    "    (2000, 369.55), (2001, 371.14), (2002, 373.28), \n",
    "    (2003, 375.80), (2004, 377.52), (2005, 379.80), \n",
    "    (2006, 381.90), (2007, 383.79), (2008, 385.60), \n",
    "    (2009, 387.43), (2010, 389.90), (2011, 391.65), \n",
    "    (2012, 393.85), (2013, 396.52), (2014, 398.65),\n",
    "    (2015, 400.83), (2016, 404.24), (2017, 406.55), \n",
    "    (2018, 408.52), (2019, 411.44), (2020, 414.24)\n",
    "]"
   ]
  },
  {
   "cell_type": "code",
   "execution_count": 21,
   "id": "0c9b1faf-a69b-4da0-8dc0-7b72a86e36d1",
   "metadata": {},
   "outputs": [
    {
     "name": "stdout",
     "output_type": "stream",
     "text": [
      "Year: 2016, Change in CO2 concentration: 3.41 ppm\n"
     ]
    }
   ],
   "source": [
    "\n",
    "# Initialize variables to store years with increases and their corresponding changes\n",
    "increases = []\n",
    "\n",
    "# Iterate over the data to identify years with increases of 3 ppm or more\n",
    "for i in range(1, len(co2_data)):\n",
    "    year, co2_level = co2_data[i]\n",
    "    prev_year, prev_co2_level = co2_data[i - 1]\n",
    "    change = co2_level - prev_co2_level\n",
    "    if change >= 3:\n",
    "        increases.append((year, change))\n",
    "\n",
    "# Print out the years and their corresponding changes\n",
    "for year, change in increases:\n",
    "    print(f\"Year: {year}, Change in CO2 concentration: {change:.2f} ppm\")\n"
   ]
  },
  {
   "cell_type": "code",
   "execution_count": null,
   "id": "e9516948-b9d1-46c3-9867-b68aaffa0737",
   "metadata": {},
   "outputs": [],
   "source": []
  }
 ],
 "metadata": {
  "kernelspec": {
   "display_name": "Python 3 (ipykernel)",
   "language": "python",
   "name": "python3"
  },
  "language_info": {
   "codemirror_mode": {
    "name": "ipython",
    "version": 3
   },
   "file_extension": ".py",
   "mimetype": "text/x-python",
   "name": "python",
   "nbconvert_exporter": "python",
   "pygments_lexer": "ipython3",
   "version": "3.11.7"
  },
  "toc": {
   "base_numbering": 1,
   "nav_menu": {},
   "number_sections": true,
   "sideBar": true,
   "skip_h1_title": false,
   "title_cell": "Table of Contents",
   "title_sidebar": "Contents",
   "toc_cell": false,
   "toc_position": {},
   "toc_section_display": true,
   "toc_window_display": false
  },
  "vscode": {
   "interpreter": {
    "hash": "31f2aee4e71d21fbe5cf8b01ff0e069b9275f58929596ceb00d14d90e3e16cd6"
   }
  }
 },
 "nbformat": 4,
 "nbformat_minor": 5
}
