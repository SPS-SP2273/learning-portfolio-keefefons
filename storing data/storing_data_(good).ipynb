{
 "cells": [
  {
   "attachments": {},
   "cell_type": "markdown",
   "id": "123456",
   "metadata": {},
   "source": [
    "<div style=\"text-align:left;font-size:2em\"><span style=\"font-weight:bolder;font-size:1.25em\">SP2273 | Learning Portfolio</span><br><br><span style=\"font-weight:bold;color:darkred\">Storing Data (Good)</span></div>"
   ]
  },
  {
   "attachments": {},
   "cell_type": "markdown",
   "id": "e624d4ae",
   "metadata": {},
   "source": [
    "# What to expect in this chapter"
   ]
  },
  {
   "attachments": {},
   "cell_type": "markdown",
   "id": "53198d59",
   "metadata": {},
   "source": [
    "# 1 Subsetting: Indexing and Slicing"
   ]
  },
  {
   "cell_type": "markdown",
   "id": "23709d83-7bfc-4e7b-8229-8fe9e004f904",
   "metadata": {},
   "source": [
    "- Subsetting means to ‘select’.\n",
    "- Indexing refers to selecting one element. (like when print(list[4]))\n",
    "- Slicing refers to selecting a range of elements. "
   ]
  },
  {
   "attachments": {},
   "cell_type": "markdown",
   "id": "46efb291",
   "metadata": {},
   "source": [
    "## 1.1 Lists & Arrays in 1D | Subsetting & Indexing"
   ]
  },
  {
   "cell_type": "code",
   "execution_count": 8,
   "id": "728668ea-85f8-457d-84cc-9a94509dc44f",
   "metadata": {},
   "outputs": [],
   "source": [
    "import numpy as np"
   ]
  },
  {
   "cell_type": "code",
   "execution_count": 7,
   "id": "d1456b06-9f7a-458a-b76d-396dba25d9c1",
   "metadata": {},
   "outputs": [],
   "source": [
    "py_list = [\"a1\", \"b2\", \"c3\", \"d4\", \"e5\",\n",
    "         \"f6\", \"g7\", \"h8\", \"i9\", \"j10\"]\n",
    "\n",
    "x = py_list\n"
   ]
  },
  {
   "cell_type": "code",
   "execution_count": 9,
   "id": "c9beba91-e837-4b13-9941-de8daf6ce05c",
   "metadata": {},
   "outputs": [
    {
     "data": {
      "text/plain": [
       "'a1'"
      ]
     },
     "execution_count": 9,
     "metadata": {},
     "output_type": "execute_result"
    }
   ],
   "source": [
    "x[0]"
   ]
  },
  {
   "cell_type": "code",
   "execution_count": 11,
   "id": "78d3bf52-002c-48e7-8600-47da09ade14e",
   "metadata": {},
   "outputs": [
    {
     "data": {
      "text/plain": [
       "['a1', 'b2', 'c3']"
      ]
     },
     "execution_count": 11,
     "metadata": {},
     "output_type": "execute_result"
    }
   ],
   "source": [
    "x[0:3]   #this gives index 0 to 2. 0, 1, 2 (but not 3)"
   ]
  },
  {
   "cell_type": "code",
   "execution_count": 12,
   "id": "02de7770-50ed-4831-a6c2-ed5428dd9b45",
   "metadata": {},
   "outputs": [
    {
     "data": {
      "text/plain": [
       "['b2', 'c3', 'd4', 'e5', 'f6']"
      ]
     },
     "execution_count": 12,
     "metadata": {},
     "output_type": "execute_result"
    }
   ],
   "source": [
    "x[1:6]    #this gives index 1, 2, 3, 4, 5"
   ]
  },
  {
   "cell_type": "code",
   "execution_count": 14,
   "id": "027d991a-e079-4bf2-944d-5cddde2f36ce",
   "metadata": {},
   "outputs": [
    {
     "data": {
      "text/plain": [
       "['b2', 'd4', 'f6']"
      ]
     },
     "execution_count": 14,
     "metadata": {},
     "output_type": "execute_result"
    }
   ],
   "source": [
    "x[1:6:2]    #this gives from 1 to 5, starts from 1, but in steps of 2. So 1, 3, 5."
   ]
  },
  {
   "cell_type": "code",
   "execution_count": 16,
   "id": "d702badf-682b-4de3-8b74-afed4a84b67e",
   "metadata": {},
   "outputs": [
    {
     "data": {
      "text/plain": [
       "['f6', 'g7', 'h8', 'i9', 'j10']"
      ]
     },
     "execution_count": 16,
     "metadata": {},
     "output_type": "execute_result"
    }
   ],
   "source": [
    "x[5:]    #index 5 to the end"
   ]
  },
  {
   "cell_type": "code",
   "execution_count": 20,
   "id": "faa7a7bf-9eb2-429e-bc9a-25e10b44f55b",
   "metadata": {},
   "outputs": [
    {
     "data": {
      "text/plain": [
       "['a1', 'b2', 'c3', 'd4']"
      ]
     },
     "execution_count": 20,
     "metadata": {},
     "output_type": "execute_result"
    }
   ],
   "source": [
    "x[:4]    #from start till index 3 (the second number of the [:4] is always not inclusive)"
   ]
  },
  {
   "cell_type": "code",
   "execution_count": 37,
   "id": "6c6ad066-e6be-4f22-befb-c42e33b83bcb",
   "metadata": {},
   "outputs": [
    {
     "data": {
      "text/plain": [
       "[]"
      ]
     },
     "execution_count": 37,
     "metadata": {},
     "output_type": "execute_result"
    }
   ],
   "source": [
    "x[5:2]\n",
    "#doesn't work, just gives you a blank list. See below for how to make it work\n",
    "#because the default is to read fwd"
   ]
  },
  {
   "cell_type": "code",
   "execution_count": 32,
   "id": "74b493d0-aba9-435a-afba-72c3d654516d",
   "metadata": {},
   "outputs": [
    {
     "data": {
      "text/plain": [
       "['f6', 'e5', 'd4']"
      ]
     },
     "execution_count": 32,
     "metadata": {},
     "output_type": "execute_result"
    }
   ],
   "source": [
    "x[5:2:-1]  \n",
    "#from index 5 to 3, in reverse. tells it to read backwards\n",
    "#the -1 reverses the list"
   ]
  },
  {
   "cell_type": "code",
   "execution_count": 36,
   "id": "45766086-cfdd-4179-b526-88f600555f50",
   "metadata": {},
   "outputs": [
    {
     "data": {
      "text/plain": [
       "[]"
      ]
     },
     "execution_count": 36,
     "metadata": {},
     "output_type": "execute_result"
    }
   ],
   "source": [
    "x[2:5:-1]\n",
    "#want it to read forwards but then -1 confuses it to read backwards, doesnt work"
   ]
  },
  {
   "cell_type": "code",
   "execution_count": 31,
   "id": "817e8596-01e0-403a-8157-d68ffa79fc69",
   "metadata": {},
   "outputs": [
    {
     "data": {
      "text/plain": [
       "['j10', 'i9', 'h8', 'g7', 'f6', 'e5', 'd4', 'c3', 'b2', 'a1']"
      ]
     },
     "execution_count": 31,
     "metadata": {},
     "output_type": "execute_result"
    }
   ],
   "source": [
    "x[::-1] \n",
    "#gives you the list in reverse\n",
    "#I read it as: give from start to end, but in reverse"
   ]
  },
  {
   "attachments": {},
   "cell_type": "markdown",
   "id": "aa461fb5",
   "metadata": {},
   "source": [
    "## 1.2 Arrays only | Subsetting by masking"
   ]
  },
  {
   "cell_type": "code",
   "execution_count": 41,
   "id": "f1ddf274-fd24-4f51-bced-8a18789d3b7c",
   "metadata": {},
   "outputs": [
    {
     "name": "stdout",
     "output_type": "stream",
     "text": [
      "[False False False  True  True  True  True  True  True  True]\n"
     ]
    },
    {
     "data": {
      "text/plain": [
       "array([ 4,  5,  6,  7,  8,  9, 10])"
      ]
     },
     "execution_count": 41,
     "metadata": {},
     "output_type": "execute_result"
    }
   ],
   "source": [
    "np_array = np.array([1, 2, 3, 4, 5, 6, 7, 8, 9, 10])\n",
    "my_mask = np_array > 3\n",
    "\n",
    "print(my_mask)\n",
    "\n",
    "np_array[my_mask]\n",
    "#this shows me all the values which are true to be >3"
   ]
  },
  {
   "cell_type": "code",
   "execution_count": 43,
   "id": "6ed841bc-eb68-4bbf-a313-c761466b92f2",
   "metadata": {},
   "outputs": [
    {
     "data": {
      "text/plain": [
       "array([ 4,  5,  6,  7,  8,  9, 10])"
      ]
     },
     "execution_count": 43,
     "metadata": {},
     "output_type": "execute_result"
    }
   ],
   "source": [
    "#here's a more concise way to do the above:\n",
    "\n",
    "np_array[np_array > 3] #means from the np_array, only show those values which >3"
   ]
  },
  {
   "cell_type": "code",
   "execution_count": 46,
   "id": "becea488-6578-458a-9299-3f271589dad0",
   "metadata": {},
   "outputs": [
    {
     "data": {
      "text/plain": [
       "array([1, 2, 3])"
      ]
     },
     "execution_count": 46,
     "metadata": {},
     "output_type": "execute_result"
    }
   ],
   "source": [
    "np_array[~(np_array > 3)]                 \n",
    "# '~' means 'NOT'\n",
    "# so now i get all the values 3 and below from the array\n"
   ]
  },
  {
   "cell_type": "code",
   "execution_count": 47,
   "id": "b85a6bc2-4335-4be0-8083-4fc5883fcd8d",
   "metadata": {},
   "outputs": [
    {
     "data": {
      "text/plain": [
       "array([4, 5, 6, 7])"
      ]
     },
     "execution_count": 47,
     "metadata": {},
     "output_type": "execute_result"
    }
   ],
   "source": [
    "np_array[(np_array > 3) & (np_array < 8)] # '&' means 'AND'"
   ]
  },
  {
   "cell_type": "code",
   "execution_count": 49,
   "id": "89de1c79-5d6a-4c5a-9145-097ceec3afca",
   "metadata": {},
   "outputs": [
    {
     "data": {
      "text/plain": [
       "array([ 1,  2,  9, 10])"
      ]
     },
     "execution_count": 49,
     "metadata": {},
     "output_type": "execute_result"
    }
   ],
   "source": [
    "np_array[(np_array < 3) | (np_array > 8)] # '|' means 'OR'"
   ]
  },
  {
   "cell_type": "code",
   "execution_count": 56,
   "id": "c6161a64-a114-4784-8d63-b637d477814e",
   "metadata": {},
   "outputs": [
    {
     "data": {
      "text/plain": [
       "array([1, 2, 3, 4, 5])"
      ]
     },
     "execution_count": 56,
     "metadata": {},
     "output_type": "execute_result"
    }
   ],
   "source": [
    "np_array[(np_array < 3) | ~(np_array > 5)] \n",
    "# '|' means 'OR'\n",
    "#this means print everything below 3 + print everything not above 5 (but doesnt repeat values)"
   ]
  },
  {
   "cell_type": "code",
   "execution_count": 57,
   "id": "cd9959e6-20e9-416d-9c60-affc11ee8868",
   "metadata": {},
   "outputs": [
    {
     "data": {
      "text/plain": [
       "array([1, 2])"
      ]
     },
     "execution_count": 57,
     "metadata": {},
     "output_type": "execute_result"
    }
   ],
   "source": [
    "np_array[(np_array < 3) & ~(np_array > 5)] \n",
    "# '|' means 'OR'\n",
    "# now i only get 1 and 2 coz it has to satisfy both sides"
   ]
  },
  {
   "attachments": {},
   "cell_type": "markdown",
   "id": "181323c9",
   "metadata": {},
   "source": [
    "## 1.3 Lists & Arrays in 2D | Indexing & Slicing"
   ]
  },
  {
   "cell_type": "code",
   "execution_count": 58,
   "id": "cdcfd4a1-f29f-4f83-a13f-034ea2decf60",
   "metadata": {},
   "outputs": [],
   "source": [
    "py_list_2d = [[1, \"A\"], [2, \"B\"], [3, \"C\"], [4, \"D\"],\n",
    "              [5, \"E\"], [6, \"F\"], [7, \"G\"], [8, \"H\"],\n",
    "              [9, \"I\"], [10, \"J\"]]\n",
    "\n",
    "np_array_2d = np.array(py_list_2d)"
   ]
  },
  {
   "cell_type": "code",
   "execution_count": 60,
   "id": "8d597f1b-1f17-4f7f-adc8-6b3fd51489d4",
   "metadata": {},
   "outputs": [
    {
     "data": {
      "text/plain": [
       "[4, 'D']"
      ]
     },
     "execution_count": 60,
     "metadata": {},
     "output_type": "execute_result"
    }
   ],
   "source": [
    "py_list_2d[3]\n",
    "#what is the list at position 4"
   ]
  },
  {
   "cell_type": "code",
   "execution_count": 62,
   "id": "913e950f-dbf1-41c7-9344-c347cd18aa32",
   "metadata": {},
   "outputs": [
    {
     "data": {
      "text/plain": [
       "4"
      ]
     },
     "execution_count": 62,
     "metadata": {},
     "output_type": "execute_result"
    }
   ],
   "source": [
    "py_list_2d[3][0]\n",
    "#what is the first item in the list at position 4"
   ]
  },
  {
   "cell_type": "code",
   "execution_count": 63,
   "id": "e395b6da-36e4-4804-8334-c84e1c26baf9",
   "metadata": {},
   "outputs": [
    {
     "data": {
      "text/plain": [
       "array(['4', 'D'], dtype='<U21')"
      ]
     },
     "execution_count": 63,
     "metadata": {},
     "output_type": "execute_result"
    }
   ],
   "source": [
    "np_array_2d[3]\n",
    "#what is the list at position 4"
   ]
  },
  {
   "cell_type": "code",
   "execution_count": 75,
   "id": "45a08c13-1f60-49b8-98a3-e6532620eeb4",
   "metadata": {},
   "outputs": [
    {
     "data": {
      "text/plain": [
       "'4'"
      ]
     },
     "execution_count": 75,
     "metadata": {},
     "output_type": "execute_result"
    }
   ],
   "source": [
    "np_array_2d[3, 0]\n",
    "#what is the first item in the list at position 4\n",
    "#notice that if its an array, just use 1 [], separate numbers with ,"
   ]
  },
  {
   "cell_type": "code",
   "execution_count": 70,
   "id": "b901b4a5-4816-456d-98c3-08088875d2e6",
   "metadata": {},
   "outputs": [
    {
     "data": {
      "text/plain": [
       "[[1, 'A'], [2, 'B'], [3, 'C']]"
      ]
     },
     "execution_count": 70,
     "metadata": {},
     "output_type": "execute_result"
    }
   ],
   "source": [
    "py_list_2d[:3]\n",
    "#what are the lists from start till position 2 (inclusive)"
   ]
  },
  {
   "cell_type": "code",
   "execution_count": 74,
   "id": "45ce0a27-6d09-40e9-aef8-22455be57912",
   "metadata": {},
   "outputs": [
    {
     "data": {
      "text/plain": [
       "[1, 'A']"
      ]
     },
     "execution_count": 74,
     "metadata": {},
     "output_type": "execute_result"
    }
   ],
   "source": [
    "py_list_2d[:3][0]\n",
    "#what are the lists from start till position 2 (inclusive)?\n",
    "#then give me just the item in position 0."
   ]
  },
  {
   "cell_type": "code",
   "execution_count": 71,
   "id": "73fda0cb-52af-416d-9f03-64963adcf166",
   "metadata": {},
   "outputs": [
    {
     "data": {
      "text/plain": [
       "array([['1', 'A'],\n",
       "       ['2', 'B'],\n",
       "       ['3', 'C']], dtype='<U21')"
      ]
     },
     "execution_count": 71,
     "metadata": {},
     "output_type": "execute_result"
    }
   ],
   "source": [
    "np_array_2d[:3]\n",
    "#what are the lists from start till position 2 (inclusive)"
   ]
  },
  {
   "cell_type": "code",
   "execution_count": 73,
   "id": "b0728200-7627-47dc-b2de-dbd3eb0caf17",
   "metadata": {},
   "outputs": [
    {
     "data": {
      "text/plain": [
       "array(['1', '2', '3'], dtype='<U21')"
      ]
     },
     "execution_count": 73,
     "metadata": {},
     "output_type": "execute_result"
    }
   ],
   "source": [
    "np_array_2d[:3, 0]\n",
    "#what are the lists from start till position 2 (inclusive)?\n",
    "#then give me the first item IN EACH of the lists."
   ]
  },
  {
   "cell_type": "code",
   "execution_count": 76,
   "id": "4e0531fd-dd28-4eb0-a4a0-a5e857f46060",
   "metadata": {},
   "outputs": [
    {
     "data": {
      "text/plain": [
       "[4, 'D']"
      ]
     },
     "execution_count": 76,
     "metadata": {},
     "output_type": "execute_result"
    }
   ],
   "source": [
    "py_list_2d[3:6][0]\n",
    "#Get position 3, 4, 5. what's the 1st item in this new list?"
   ]
  },
  {
   "cell_type": "code",
   "execution_count": 79,
   "id": "38530cc2-7c56-498f-9c76-b782453655ef",
   "metadata": {},
   "outputs": [
    {
     "data": {
      "text/plain": [
       "array(['4', '5', '6'], dtype='<U21')"
      ]
     },
     "execution_count": 79,
     "metadata": {},
     "output_type": "execute_result"
    }
   ],
   "source": [
    "np_array_2d[3:6, 0]\n",
    "#Get position 3, 4, 5. What's the 1st item in each of the lists retrieved?"
   ]
  },
  {
   "cell_type": "code",
   "execution_count": 80,
   "id": "eb8dc268-18bf-45c9-b5d3-c2650c00e00d",
   "metadata": {},
   "outputs": [
    {
     "data": {
      "text/plain": [
       "array(['1', '2', '3', '4', '5', '6', '7', '8', '9', '10'], dtype='<U21')"
      ]
     },
     "execution_count": 80,
     "metadata": {},
     "output_type": "execute_result"
    }
   ],
   "source": [
    "np_array_2d[:, 0]\n",
    "#Get positions from start to end (everything). What's the 1st item in each of the lists retrieved?"
   ]
  },
  {
   "attachments": {},
   "cell_type": "markdown",
   "id": "e4967174",
   "metadata": {},
   "source": [
    "## 1.4 Growing lists"
   ]
  },
  {
   "cell_type": "markdown",
   "id": "ef6fce59-5df5-45fd-89f8-b89b8c002b6f",
   "metadata": {},
   "source": [
    "`3 different ways to grow lists (adding 1 element at a time)`"
   ]
  },
  {
   "cell_type": "code",
   "execution_count": 81,
   "id": "b18b0c05-a2f3-4fff-ad5f-9ea8bf87c39b",
   "metadata": {},
   "outputs": [
    {
     "data": {
      "text/plain": [
       "[1, 2, 3, 4]"
      ]
     },
     "execution_count": 81,
     "metadata": {},
     "output_type": "execute_result"
    }
   ],
   "source": [
    "x=[1]\n",
    "x= x + [2]\n",
    "x= x + [3]\n",
    "x= x + [4]\n",
    "x"
   ]
  },
  {
   "cell_type": "code",
   "execution_count": 82,
   "id": "b3468cf6-479e-4fa2-a645-99db8194cfc5",
   "metadata": {},
   "outputs": [
    {
     "data": {
      "text/plain": [
       "[1, 2, 3, 4]"
      ]
     },
     "execution_count": 82,
     "metadata": {},
     "output_type": "execute_result"
    }
   ],
   "source": [
    "x=[1]\n",
    "x+= [2]\n",
    "x+= [3]\n",
    "x+= [4]\n",
    "x"
   ]
  },
  {
   "cell_type": "code",
   "execution_count": 84,
   "id": "2c85b95c-0439-4b29-8f69-06e7fb51d406",
   "metadata": {},
   "outputs": [
    {
     "data": {
      "text/plain": [
       "[1, 2, 3, 4]"
      ]
     },
     "execution_count": 84,
     "metadata": {},
     "output_type": "execute_result"
    }
   ],
   "source": [
    "x=[1]\n",
    "x.append(2)\n",
    "x.append(3)\n",
    "x.append(4)\n",
    "x\n",
    "\n",
    "#the execution spd of this is fastest"
   ]
  },
  {
   "cell_type": "markdown",
   "id": "5d3e1bf9-0e40-4bcc-b787-a19f7492da89",
   "metadata": {},
   "source": [
    "`3 diff ways to extend lists (add mulitple elements at once)`"
   ]
  },
  {
   "cell_type": "code",
   "execution_count": 85,
   "id": "9ef979a9-7b0f-4f1e-a75d-2b8b12515a60",
   "metadata": {},
   "outputs": [
    {
     "data": {
      "text/plain": [
       "[1, 2, 3, 4, 5, 6]"
      ]
     },
     "execution_count": 85,
     "metadata": {},
     "output_type": "execute_result"
    }
   ],
   "source": [
    "x = [1, 2, 3]\n",
    "x += [4, 5, 6]\n",
    "x"
   ]
  },
  {
   "cell_type": "code",
   "execution_count": 86,
   "id": "7e303ca5-df7a-4d4b-8a6d-eb2c9743e0fa",
   "metadata": {},
   "outputs": [
    {
     "data": {
      "text/plain": [
       "[1, 2, 3, 4, 5, 6]"
      ]
     },
     "execution_count": 86,
     "metadata": {},
     "output_type": "execute_result"
    }
   ],
   "source": [
    "x=[1, 2, 3]\n",
    "x.extend([4, 5, 6])\n",
    "x"
   ]
  },
  {
   "cell_type": "code",
   "execution_count": 88,
   "id": "d680a49d-2668-442b-8bab-3cc6ab770933",
   "metadata": {},
   "outputs": [
    {
     "data": {
      "text/plain": [
       "[1, 2, 3, [4, 5, 6]]"
      ]
     },
     "execution_count": 88,
     "metadata": {},
     "output_type": "execute_result"
    }
   ],
   "source": [
    "x=[1, 2, 3]\n",
    "x.append([4, 5, 6])\n",
    "x\n",
    "\n",
    "#NOTICE this appends a new list within the first list. The list [4,5,6] is seen as 1 'item'"
   ]
  },
  {
   "attachments": {},
   "cell_type": "markdown",
   "id": "21979d36",
   "metadata": {},
   "source": [
    "# Some loose ends"
   ]
  },
  {
   "attachments": {},
   "cell_type": "markdown",
   "id": "71fd7986",
   "metadata": {},
   "source": [
    "## 1.5 Tuples"
   ]
  },
  {
   "cell_type": "code",
   "execution_count": 94,
   "id": "f8de6c8e-a62f-40c0-9a4a-5155a04fafa3",
   "metadata": {},
   "outputs": [],
   "source": [
    "a = (1, 2, 3)     # Define tuple\n",
    "#note that tuples are immutable, i.e. can't be changed"
   ]
  },
  {
   "cell_type": "code",
   "execution_count": 90,
   "id": "82685a54-18f5-4388-b5d5-cc7dfdcfda3c",
   "metadata": {},
   "outputs": [
    {
     "name": "stdout",
     "output_type": "stream",
     "text": [
      "1\n"
     ]
    }
   ],
   "source": [
    "print(a[0])    # Access data"
   ]
  },
  {
   "cell_type": "code",
   "execution_count": 93,
   "id": "1633f50d-b821-4daf-8a51-5ac2d8c078ab",
   "metadata": {},
   "outputs": [
    {
     "ename": "TypeError",
     "evalue": "'tuple' object does not support item assignment",
     "output_type": "error",
     "traceback": [
      "\u001b[0;31m---------------------------------------------------------------------------\u001b[0m",
      "\u001b[0;31mTypeError\u001b[0m                                 Traceback (most recent call last)",
      "Cell \u001b[0;32mIn[93], line 2\u001b[0m\n\u001b[1;32m      1\u001b[0m \u001b[38;5;66;03m# The following will NOT work\u001b[39;00m\n\u001b[0;32m----> 2\u001b[0m \u001b[43ma\u001b[49m\u001b[43m[\u001b[49m\u001b[38;5;241;43m0\u001b[39;49m\u001b[43m]\u001b[49m\u001b[38;5;241m=\u001b[39m\u001b[38;5;241m-\u001b[39m\u001b[38;5;241m1\u001b[39m\n\u001b[1;32m      3\u001b[0m a[\u001b[38;5;241m0\u001b[39m]\u001b[38;5;241m+\u001b[39m\u001b[38;5;241m=\u001b[39m [\u001b[38;5;241m10\u001b[39m]\n",
      "\u001b[0;31mTypeError\u001b[0m: 'tuple' object does not support item assignment"
     ]
    }
   ],
   "source": [
    "# The following will NOT work\n",
    "a[0]=-1\n",
    "# the above means to change the first item in tuple a to the integer -1\n",
    "a[0]+= [10]"
   ]
  },
  {
   "cell_type": "code",
   "execution_count": null,
   "id": "8b20d782-756a-49fd-b762-06829c148d36",
   "metadata": {},
   "outputs": [],
   "source": []
  },
  {
   "attachments": {},
   "cell_type": "markdown",
   "id": "4ade6d3a",
   "metadata": {},
   "source": [
    "## 1.6 Be VERY careful when copying"
   ]
  },
  {
   "cell_type": "code",
   "execution_count": 126,
   "id": "48748544-2050-4175-b073-88cab005f86e",
   "metadata": {},
   "outputs": [],
   "source": [
    "x=[1, 2, 3]\n",
    "y=x           # DON'T do this!\n",
    "z=x           # DON'T do this!\n",
    "\n",
    "#it might screw up code later on."
   ]
  },
  {
   "cell_type": "code",
   "execution_count": 121,
   "id": "76a5bd9f-97e2-4f98-9a2e-759a78d5e804",
   "metadata": {},
   "outputs": [],
   "source": [
    "x=[1, 2, 3]\n",
    "y=x.copy()\n",
    "z=x.copy()"
   ]
  },
  {
   "cell_type": "code",
   "execution_count": 122,
   "id": "cc9b40c2-9dbd-4ce0-972a-d7ecbbb3e1d5",
   "metadata": {},
   "outputs": [
    {
     "data": {
      "text/plain": [
       "[1, 2, 3]"
      ]
     },
     "execution_count": 122,
     "metadata": {},
     "output_type": "execute_result"
    }
   ],
   "source": [
    "y"
   ]
  },
  {
   "cell_type": "code",
   "execution_count": 123,
   "id": "7dfcd113-79fc-4bf6-a6f2-b8ac0b863b89",
   "metadata": {},
   "outputs": [
    {
     "data": {
      "text/plain": [
       "[1, 2, 3]"
      ]
     },
     "execution_count": 123,
     "metadata": {},
     "output_type": "execute_result"
    }
   ],
   "source": [
    "z"
   ]
  },
  {
   "attachments": {},
   "cell_type": "markdown",
   "id": "ea803a04",
   "metadata": {},
   "source": [
    "# Exercises & Self-Assessment"
   ]
  },
  {
   "cell_type": "code",
   "execution_count": null,
   "id": "68be48a9",
   "metadata": {},
   "outputs": [],
   "source": [
    "\n",
    "\n",
    "\n",
    "# Your solution here\n",
    "\n",
    "\n"
   ]
  },
  {
   "attachments": {},
   "cell_type": "markdown",
   "id": "858794e8",
   "metadata": {},
   "source": [
    "## Footnotes"
   ]
  }
 ],
 "metadata": {
  "kernelspec": {
   "display_name": "Python 3 (ipykernel)",
   "language": "python",
   "name": "python3"
  },
  "language_info": {
   "codemirror_mode": {
    "name": "ipython",
    "version": 3
   },
   "file_extension": ".py",
   "mimetype": "text/x-python",
   "name": "python",
   "nbconvert_exporter": "python",
   "pygments_lexer": "ipython3",
   "version": "3.11.7"
  },
  "toc": {
   "base_numbering": 1,
   "nav_menu": {},
   "number_sections": true,
   "sideBar": true,
   "skip_h1_title": false,
   "title_cell": "Table of Contents",
   "title_sidebar": "Contents",
   "toc_cell": false,
   "toc_position": {},
   "toc_section_display": true,
   "toc_window_display": false
  },
  "vscode": {
   "interpreter": {
    "hash": "31f2aee4e71d21fbe5cf8b01ff0e069b9275f58929596ceb00d14d90e3e16cd6"
   }
  }
 },
 "nbformat": 4,
 "nbformat_minor": 5
}
