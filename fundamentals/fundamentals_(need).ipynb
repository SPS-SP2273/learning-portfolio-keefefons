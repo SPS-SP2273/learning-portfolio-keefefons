{
 "cells": [
  {
   "attachments": {},
   "cell_type": "markdown",
   "id": "123456",
   "metadata": {},
   "source": [
    "<div style=\"text-align:left;font-size:2em\"><span style=\"font-weight:bolder;font-size:1.25em\">SP2273 | Learning Portfolio</span><br><br><span style=\"font-weight:bold;color:darkred\">Fundamentals (Need)</span></div>"
   ]
  },
  {
   "attachments": {},
   "cell_type": "markdown",
   "id": "9cdd6910",
   "metadata": {},
   "source": [
    "# What to expect in this chapter"
   ]
  },
  {
   "attachments": {},
   "cell_type": "markdown",
   "id": "a9e1b214",
   "metadata": {},
   "source": [
    "# 1 Functions"
   ]
  },
  {
   "cell_type": "code",
   "execution_count": 1,
   "id": "07feea10-e038-406d-ad04-95e737447071",
   "metadata": {},
   "outputs": [
    {
     "name": "stdout",
     "output_type": "stream",
     "text": [
      "Hello world!\n"
     ]
    }
   ],
   "source": [
    "print('Hello world!')"
   ]
  },
  {
   "attachments": {},
   "cell_type": "markdown",
   "id": "50c6f1b9",
   "metadata": {},
   "source": [
    "# 2 Remember"
   ]
  },
  {
   "cell_type": "markdown",
   "id": "cb446249-47fe-4066-aab4-e7b7dcd7fb99",
   "metadata": {},
   "source": [
    "`In the above, print() is the function, and 'Hello world!' the stuff inside is the arguement.`"
   ]
  },
  {
   "cell_type": "markdown",
   "id": "5a1325c9-1a55-4fbe-8fec-64c1f59df1ed",
   "metadata": {},
   "source": [
    "`A function may or may not accept arguments. EXAMPLE: exit() sort()`"
   ]
  },
  {
   "cell_type": "markdown",
   "id": "7313a847-ee14-4721-9a0a-7aa9125f306f",
   "metadata": {},
   "source": [
    "`You can also define your own functions other than the built-in ones like print()`"
   ]
  },
  {
   "attachments": {},
   "cell_type": "markdown",
   "id": "fa6fb852",
   "metadata": {},
   "source": [
    "# 3 Python is interpreted"
   ]
  },
  {
   "cell_type": "code",
   "execution_count": 2,
   "id": "2dcb49c5-d98f-45ea-868e-c2355da2cc74",
   "metadata": {},
   "outputs": [
    {
     "name": "stdout",
     "output_type": "stream",
     "text": [
      "Hello World\n",
      "Hello World again\n"
     ]
    }
   ],
   "source": [
    "print('Hello World')\n",
    "print('Hello World again')"
   ]
  },
  {
   "attachments": {},
   "cell_type": "markdown",
   "id": "0dbdac50",
   "metadata": {},
   "source": [
    "# 4 Python is sensitive."
   ]
  },
  {
   "cell_type": "code",
   "execution_count": 3,
   "id": "358f7237-44be-453c-bd66-6adaa3c85fd2",
   "metadata": {},
   "outputs": [
    {
     "name": "stdout",
     "output_type": "stream",
     "text": [
      "Hello World\n"
     ]
    },
    {
     "ename": "NameError",
     "evalue": "name 'Print' is not defined",
     "output_type": "error",
     "traceback": [
      "\u001b[0;31m---------------------------------------------------------------------------\u001b[0m",
      "\u001b[0;31mNameError\u001b[0m                                 Traceback (most recent call last)",
      "Cell \u001b[0;32mIn[3], line 2\u001b[0m\n\u001b[1;32m      1\u001b[0m \u001b[38;5;28mprint\u001b[39m(\u001b[38;5;124m'\u001b[39m\u001b[38;5;124mHello World\u001b[39m\u001b[38;5;124m'\u001b[39m)      \u001b[38;5;66;03m# This WILL work\u001b[39;00m\n\u001b[0;32m----> 2\u001b[0m \u001b[43mPrint\u001b[49m(\u001b[38;5;124m'\u001b[39m\u001b[38;5;124mHello World\u001b[39m\u001b[38;5;124m'\u001b[39m)      \u001b[38;5;66;03m# This will NOT work\u001b[39;00m\n",
      "\u001b[0;31mNameError\u001b[0m: name 'Print' is not defined"
     ]
    }
   ],
   "source": [
    "print('Hello World')      # This WILL work\n",
    "Print('Hello World')      # This will NOT work"
   ]
  },
  {
   "attachments": {},
   "cell_type": "markdown",
   "id": "462d604e",
   "metadata": {},
   "source": [
    "# 5 Remember"
   ]
  },
  {
   "cell_type": "markdown",
   "id": "a1475234-9734-4482-9100-bb5331900bc9",
   "metadata": {},
   "source": [
    "Python is case-sensitive."
   ]
  },
  {
   "attachments": {},
   "cell_type": "markdown",
   "id": "aeae42b3",
   "metadata": {},
   "source": [
    "# 6 Comments"
   ]
  },
  {
   "cell_type": "markdown",
   "id": "1496e4dc-14c0-4cf6-b4bf-885c26c72bca",
   "metadata": {},
   "source": [
    "`#### this is a header (if in markdown)`"
   ]
  },
  {
   "cell_type": "code",
   "execution_count": 13,
   "id": "22b66621-7e5b-452e-802b-fa48550dd7e2",
   "metadata": {},
   "outputs": [
    {
     "name": "stdout",
     "output_type": "stream",
     "text": [
      "this line is not ignored by the interpreter\n"
     ]
    }
   ],
   "source": [
    "# this is a comment (if in code cell). The interpreter ignores such a line.\n",
    "\n",
    "print('this line is not ignored by the interpreter')"
   ]
  },
  {
   "attachments": {},
   "cell_type": "markdown",
   "id": "3937782e",
   "metadata": {},
   "source": [
    "# 7 Remember"
   ]
  },
  {
   "cell_type": "code",
   "execution_count": 14,
   "id": "2138e53c-d08b-4ca5-bf1d-8c4cdd05c061",
   "metadata": {},
   "outputs": [],
   "source": [
    "# write comments to help myself rmb wth is going on in the code."
   ]
  },
  {
   "attachments": {},
   "cell_type": "markdown",
   "id": "3260be71",
   "metadata": {},
   "source": [
    "# 8 = is not the same as =="
   ]
  },
  {
   "cell_type": "code",
   "execution_count": 16,
   "id": "d69dacdf-1ad2-4dbc-9095-8c8eea2cffd7",
   "metadata": {},
   "outputs": [],
   "source": [
    "Batman = 'Bruce Wayne'"
   ]
  },
  {
   "cell_type": "code",
   "execution_count": 18,
   "id": "8eb3b69b-75f6-4569-90d1-899bc332fbcc",
   "metadata": {},
   "outputs": [
    {
     "name": "stdout",
     "output_type": "stream",
     "text": [
      "Bruce Wayne\n"
     ]
    }
   ],
   "source": [
    "print(Batman)"
   ]
  },
  {
   "cell_type": "code",
   "execution_count": 22,
   "id": "b318b208-cbb3-4994-a7f1-eb069e748c3c",
   "metadata": {},
   "outputs": [],
   "source": [
    "# other than storing strings, I can also store numbers (like x = 1), lists"
   ]
  },
  {
   "cell_type": "code",
   "execution_count": 20,
   "id": "b2914c57-9cbe-45f0-89fd-02ca15eed5da",
   "metadata": {},
   "outputs": [
    {
     "data": {
      "text/plain": [
       "True"
      ]
     },
     "execution_count": 20,
     "metadata": {},
     "output_type": "execute_result"
    }
   ],
   "source": [
    "'Bruce Wayne' == Batman # == is to CHECK if sth is equal to something else."
   ]
  },
  {
   "attachments": {},
   "cell_type": "markdown",
   "id": "434de73e",
   "metadata": {},
   "source": [
    "# 9 Remember"
   ]
  },
  {
   "cell_type": "markdown",
   "id": "964509a2-85d4-4486-949e-1b76a5039a8c",
   "metadata": {},
   "source": [
    "= is not the same as ==.\n",
    "\n",
    "= assigns a value and\n",
    "\n",
    "== asks a question."
   ]
  },
  {
   "attachments": {},
   "cell_type": "markdown",
   "id": "5cd8a3dc",
   "metadata": {},
   "source": [
    "# 10 Use if to make decisions"
   ]
  },
  {
   "cell_type": "code",
   "execution_count": 31,
   "id": "05228c53-7558-4b36-88e5-eafe04fd6b12",
   "metadata": {},
   "outputs": [
    {
     "name": "stdout",
     "output_type": "stream",
     "text": [
      "Gotcha\n"
     ]
    }
   ],
   "source": [
    "Batman = 'Bruce Wayne'\n",
    "\n",
    "if Batman == 'Bruce Wayne':\n",
    "    print('Gotcha')\n",
    "    \n",
    "else:\n",
    "    print('Nope')"
   ]
  },
  {
   "attachments": {},
   "cell_type": "markdown",
   "id": "86f98f17",
   "metadata": {},
   "source": [
    "# 11 Remember"
   ]
  },
  {
   "cell_type": "markdown",
   "id": "fac16d02-2ab9-44fd-b160-4c1054efe4a5",
   "metadata": {},
   "source": [
    "`: is used to designate a block of code.`"
   ]
  },
  {
   "attachments": {},
   "cell_type": "markdown",
   "id": "ea00a2f2",
   "metadata": {},
   "source": [
    "# 12 Indentations (spaces) are sooo IMPORTANT!"
   ]
  },
  {
   "attachments": {},
   "cell_type": "markdown",
   "id": "b67358ce",
   "metadata": {},
   "source": [
    "# 13 Remember"
   ]
  },
  {
   "cell_type": "markdown",
   "id": "624b6660-305d-49ee-a9f2-76049f1d9410",
   "metadata": {},
   "source": [
    "Indentations play a crucial role in Python; do not use them indiscriminately.\n",
    ": is used to designate a block of code."
   ]
  },
  {
   "cell_type": "code",
   "execution_count": 32,
   "id": "bfb097ee-6010-4621-bce1-5e477cd59226",
   "metadata": {},
   "outputs": [],
   "source": [
    "# need spaces or tab under the if/then when giving the instruction, if not it won't work.\n",
    "# just use tab to stay consistent insteaad of using spaces"
   ]
  },
  {
   "attachments": {},
   "cell_type": "markdown",
   "id": "ea286439",
   "metadata": {},
   "source": [
    "# 14 ‘age’ is English, age is a variable."
   ]
  },
  {
   "cell_type": "code",
   "execution_count": 38,
   "id": "4e67b103-e191-4869-bb95-f126890cafd8",
   "metadata": {},
   "outputs": [
    {
     "name": "stdout",
     "output_type": "stream",
     "text": [
      "Bruce Wayne\n"
     ]
    }
   ],
   "source": [
    "print(Batman)\n",
    "\n",
    "#Batman here is a variable"
   ]
  },
  {
   "cell_type": "code",
   "execution_count": 37,
   "id": "c3eb8aba-a671-49cd-89c2-28b6be97f9c3",
   "metadata": {},
   "outputs": [
    {
     "name": "stdout",
     "output_type": "stream",
     "text": [
      "Batman\n"
     ]
    }
   ],
   "source": [
    "print('Batman')\n"
   ]
  },
  {
   "cell_type": "code",
   "execution_count": 42,
   "id": "4664f294-736d-4467-99d0-9bb0e398081d",
   "metadata": {},
   "outputs": [
    {
     "name": "stdout",
     "output_type": "stream",
     "text": [
      "You're twenty years old.\n"
     ]
    }
   ],
   "source": [
    "#Note that you can use either matching pairs of ' ' or \" \". \n",
    "#However, it is always good to be consistent. Sometimes, it is good to have both because you need to do things like:\n",
    "\n",
    "print(\"You're twenty years old.\")"
   ]
  },
  {
   "attachments": {},
   "cell_type": "markdown",
   "id": "4e0d2696",
   "metadata": {},
   "source": [
    "# 15 Brackets"
   ]
  },
  {
   "cell_type": "code",
   "execution_count": 44,
   "id": "e0af3e05-9e6e-4113-b351-bf22d322931e",
   "metadata": {},
   "outputs": [
    {
     "name": "stdout",
     "output_type": "stream",
     "text": [
      "Hello!\n"
     ]
    },
    {
     "data": {
      "text/plain": [
       "15"
      ]
     },
     "execution_count": 44,
     "metadata": {},
     "output_type": "execute_result"
    }
   ],
   "source": [
    "print('Hello!')             # In functions\n",
    "(1 + 2) * 5                 # For math\n"
   ]
  },
  {
   "cell_type": "code",
   "execution_count": 46,
   "id": "5286890a-f8f8-46fa-a79e-04a73f281742",
   "metadata": {},
   "outputs": [],
   "source": [
    "list_1 = [1, 2, 3, 4, 5]   # A 1D list\n",
    "\n",
    "list_2 = [               # A 2D list\n",
    "                [1, \"A\"],      \n",
    "                [2, \"B\"],\n",
    "                [3, \"C\"],\n",
    "                [4, \"D\"],\n",
    "                [5, \"E\"]\n",
    "            ]"
   ]
  },
  {
   "cell_type": "code",
   "execution_count": 47,
   "id": "4a941190-e14f-47fb-8d50-6c1edc39d80a",
   "metadata": {},
   "outputs": [
    {
     "name": "stdout",
     "output_type": "stream",
     "text": [
      "[[1, 'A'], [2, 'B'], [3, 'C'], [4, 'D'], [5, 'E']]\n"
     ]
    }
   ],
   "source": [
    "print(list_2)"
   ]
  },
  {
   "cell_type": "code",
   "execution_count": 66,
   "id": "bc84d17e-e3ac-4014-908e-97c6cf0c05d3",
   "metadata": {},
   "outputs": [],
   "source": [
    "#the following is called a DICTIONARY, stores data.\n",
    "\n",
    "flash_info = {\n",
    "    'Name': 'Flash',\n",
    "    'Real Name': 'Barry Allen',\n",
    "    'Age': 25,\n",
    "    'Affiliation': 'Justice League',\n",
    "    'Universe': 'DC',\n",
    "    'Power': 'speed' \n",
    "}\n",
    "\n",
    "#dont forget the commas , between each line if not won't work"
   ]
  },
  {
   "cell_type": "code",
   "execution_count": 70,
   "id": "0d90f93a-fc14-4e15-8263-1cfddf5e3044",
   "metadata": {},
   "outputs": [
    {
     "name": "stdout",
     "output_type": "stream",
     "text": [
      "speed\n"
     ]
    }
   ],
   "source": [
    "print(flash_info['Power'])"
   ]
  },
  {
   "attachments": {},
   "cell_type": "markdown",
   "id": "61b0e1ad",
   "metadata": {},
   "source": [
    "# 16 Giving Python superpowers with Packages"
   ]
  },
  {
   "attachments": {},
   "cell_type": "markdown",
   "id": "33f00443",
   "metadata": {},
   "source": [
    "## 16.1 Some Context"
   ]
  },
  {
   "cell_type": "code",
   "execution_count": 90,
   "id": "7837f6cd-a626-40cc-94f9-a8589c61db41",
   "metadata": {},
   "outputs": [
    {
     "ename": "NameError",
     "evalue": "name 'sqrt' is not defined",
     "output_type": "error",
     "traceback": [
      "\u001b[0;31m---------------------------------------------------------------------------\u001b[0m",
      "\u001b[0;31mNameError\u001b[0m                                 Traceback (most recent call last)",
      "Cell \u001b[0;32mIn[90], line 1\u001b[0m\n\u001b[0;32m----> 1\u001b[0m \u001b[43msqrt\u001b[49m(\u001b[38;5;241m4\u001b[39m)      \u001b[38;5;66;03m# Will NOT work because \u001b[39;00m\n\u001b[1;32m      2\u001b[0m              \u001b[38;5;66;03m# basic Python is limited\u001b[39;00m\n",
      "\u001b[0;31mNameError\u001b[0m: name 'sqrt' is not defined"
     ]
    }
   ],
   "source": [
    "sqrt(4)      # Will NOT work because \n",
    "             # basic Python is limited"
   ]
  },
  {
   "attachments": {},
   "cell_type": "markdown",
   "id": "87037643",
   "metadata": {},
   "source": [
    "## 16.2 Importing the math package"
   ]
  },
  {
   "cell_type": "code",
   "execution_count": 89,
   "id": "41525909-e7d2-440f-a546-e0573828c935",
   "metadata": {},
   "outputs": [
    {
     "data": {
      "text/plain": [
       "4.0"
      ]
     },
     "execution_count": 89,
     "metadata": {},
     "output_type": "execute_result"
    }
   ],
   "source": [
    "import math as meth\n",
    "\n",
    "meth.sqrt(16)\n",
    "\n",
    "#in this way i can give aliases"
   ]
  },
  {
   "attachments": {},
   "cell_type": "markdown",
   "id": "802e8ba1",
   "metadata": {},
   "source": [
    "## 16.3 Importing the numpy package"
   ]
  },
  {
   "cell_type": "code",
   "execution_count": 88,
   "id": "590c0a29-2a52-41de-82d1-5099472eb3dd",
   "metadata": {},
   "outputs": [
    {
     "data": {
      "text/plain": [
       "2.0"
      ]
     },
     "execution_count": 88,
     "metadata": {},
     "output_type": "execute_result"
    }
   ],
   "source": [
    "import numpy\n",
    "\n",
    "numpy.sqrt(4)"
   ]
  },
  {
   "attachments": {},
   "cell_type": "markdown",
   "id": "99c6c884",
   "metadata": {},
   "source": [
    "## 16.4 Why so many packages?"
   ]
  },
  {
   "cell_type": "code",
   "execution_count": 86,
   "id": "15d98bb3-70e7-4341-9ff4-1a08106fe211",
   "metadata": {},
   "outputs": [
    {
     "ename": "TypeError",
     "evalue": "must be real number, not list",
     "output_type": "error",
     "traceback": [
      "\u001b[0;31m---------------------------------------------------------------------------\u001b[0m",
      "\u001b[0;31mTypeError\u001b[0m                                 Traceback (most recent call last)",
      "Cell \u001b[0;32mIn[86], line 3\u001b[0m\n\u001b[1;32m      1\u001b[0m \u001b[38;5;66;03m#why need numpy when math has sqrt too?\u001b[39;00m\n\u001b[0;32m----> 3\u001b[0m \u001b[43mmeth\u001b[49m\u001b[38;5;241;43m.\u001b[39;49m\u001b[43msqrt\u001b[49m\u001b[43m(\u001b[49m\u001b[43m[\u001b[49m\u001b[38;5;241;43m4\u001b[39;49m\u001b[43m,\u001b[49m\u001b[43m \u001b[49m\u001b[38;5;241;43m16\u001b[39;49m\u001b[43m,\u001b[49m\u001b[43m \u001b[49m\u001b[38;5;241;43m64\u001b[39;49m\u001b[43m]\u001b[49m\u001b[43m)\u001b[49m\n\u001b[1;32m      5\u001b[0m \u001b[38;5;66;03m#math can't handle more than 1 number in the above function^\u001b[39;00m\n",
      "\u001b[0;31mTypeError\u001b[0m: must be real number, not list"
     ]
    }
   ],
   "source": [
    "#why need numpy when math has sqrt too?\n",
    "\n",
    "meth.sqrt([4, 16, 64])\n",
    "\n",
    "#math can't handle more than 1 number in the above function^"
   ]
  },
  {
   "cell_type": "code",
   "execution_count": 87,
   "id": "7969ec84-1540-4a56-a5e5-cae1b9392092",
   "metadata": {},
   "outputs": [
    {
     "data": {
      "text/plain": [
       "array([2., 4., 8.])"
      ]
     },
     "execution_count": 87,
     "metadata": {},
     "output_type": "execute_result"
    }
   ],
   "source": [
    "numpy.sqrt([4, 16, 64])\n",
    "\n",
    "#but numpy can"
   ]
  },
  {
   "attachments": {},
   "cell_type": "markdown",
   "id": "303a5b3c",
   "metadata": {},
   "source": [
    "# 17 Remember"
   ]
  },
  {
   "cell_type": "code",
   "execution_count": null,
   "id": "469b8800-1f0d-440c-a1a4-193f887778e9",
   "metadata": {},
   "outputs": [],
   "source": []
  },
  {
   "attachments": {},
   "cell_type": "markdown",
   "id": "a54a5b6b",
   "metadata": {},
   "source": [
    "# 18 The dot (.)"
   ]
  },
  {
   "cell_type": "code",
   "execution_count": null,
   "id": "d737a2a4-f2ae-482e-b671-ee3cbef51a36",
   "metadata": {},
   "outputs": [],
   "source": [
    "# The dot . indicates ownership, e.g. meth.sqrt(4)"
   ]
  },
  {
   "cell_type": "code",
   "execution_count": 91,
   "id": "247ab7e3-20a4-4ff1-82f6-81516c05381f",
   "metadata": {},
   "outputs": [
    {
     "data": {
      "text/plain": [
       "['I', 'am', 'Batman']"
      ]
     },
     "execution_count": 91,
     "metadata": {},
     "output_type": "execute_result"
    }
   ],
   "source": [
    "\"I am Batman\".split()"
   ]
  },
  {
   "cell_type": "code",
   "execution_count": 94,
   "id": "28ad35a4-5e21-4494-93c4-77c261c824df",
   "metadata": {},
   "outputs": [],
   "source": [
    "x = \"1 2 3 4 5\""
   ]
  },
  {
   "cell_type": "code",
   "execution_count": 96,
   "id": "5ce8111b-a9f9-40a1-8ed5-7a10a57dabda",
   "metadata": {},
   "outputs": [
    {
     "data": {
      "text/plain": [
       "['1', '2', '3', '4', '5']"
      ]
     },
     "execution_count": 96,
     "metadata": {},
     "output_type": "execute_result"
    }
   ],
   "source": [
    "x.split()"
   ]
  },
  {
   "attachments": {},
   "cell_type": "markdown",
   "id": "c4ae4ac1",
   "metadata": {},
   "source": [
    "# 19 Remember"
   ]
  },
  {
   "cell_type": "markdown",
   "id": "89d84d56-e2b1-4921-af8a-8611e3ce0855",
   "metadata": {},
   "source": [
    "The dot(.) indicates ownership, and what it can access depends on the context."
   ]
  },
  {
   "attachments": {},
   "cell_type": "markdown",
   "id": "3b133c93",
   "metadata": {},
   "source": [
    "## Footnotes"
   ]
  },
  {
   "cell_type": "code",
   "execution_count": null,
   "id": "0c53fbae-6e3a-4f4a-9d5a-7ed4d52e6360",
   "metadata": {},
   "outputs": [],
   "source": []
  }
 ],
 "metadata": {
  "kernelspec": {
   "display_name": "Python 3 (ipykernel)",
   "language": "python",
   "name": "python3"
  },
  "language_info": {
   "codemirror_mode": {
    "name": "ipython",
    "version": 3
   },
   "file_extension": ".py",
   "mimetype": "text/x-python",
   "name": "python",
   "nbconvert_exporter": "python",
   "pygments_lexer": "ipython3",
   "version": "3.11.7"
  },
  "toc": {
   "base_numbering": 1,
   "nav_menu": {},
   "number_sections": true,
   "sideBar": true,
   "skip_h1_title": false,
   "title_cell": "Table of Contents",
   "title_sidebar": "Contents",
   "toc_cell": false,
   "toc_position": {},
   "toc_section_display": true,
   "toc_window_display": false
  },
  "vscode": {
   "interpreter": {
    "hash": "31f2aee4e71d21fbe5cf8b01ff0e069b9275f58929596ceb00d14d90e3e16cd6"
   }
  }
 },
 "nbformat": 4,
 "nbformat_minor": 5
}
