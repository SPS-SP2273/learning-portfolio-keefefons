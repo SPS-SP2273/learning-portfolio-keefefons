{
 "cells": [
  {
   "attachments": {},
   "cell_type": "markdown",
   "id": "123456",
   "metadata": {},
   "source": [
    "<div style=\"text-align:left;font-size:2em\"><span style=\"font-weight:bolder;font-size:1.25em\">SP2273 | Learning Portfolio | Keefe</span><br><br><span style=\"font-weight:bold;color:darkred\">Fundamentals (Good)</span></div>"
   ]
  },
  {
   "attachments": {},
   "cell_type": "markdown",
   "id": "f5afafdd",
   "metadata": {},
   "source": [
    "# What to expect in this chapter"
   ]
  },
  {
   "attachments": {},
   "cell_type": "markdown",
   "id": "750d93fd",
   "metadata": {},
   "source": [
    "# 1 There is more to if"
   ]
  },
  {
   "cell_type": "code",
   "execution_count": 1,
   "id": "8668616e-bfd9-46da-86b6-28e2e2f770d3",
   "metadata": {},
   "outputs": [
    {
     "name": "stdout",
     "output_type": "stream",
     "text": [
      "Hello Batman!\n"
     ]
    }
   ],
   "source": [
    "#elif is for when there are more branches to the \"if\" statement\n",
    "\n",
    "name = 'Batman'\n",
    "\n",
    "if name == 'Batman':\n",
    "    print('Hello Batman!')\n",
    "elif name == 'Robin':\n",
    "    print('Hello Sidekick!')\n",
    "else:\n",
    "    print('Hello World!')"
   ]
  },
  {
   "attachments": {},
   "cell_type": "markdown",
   "id": "355f0c9a",
   "metadata": {},
   "source": [
    "# 2 Asking questions"
   ]
  },
  {
   "cell_type": "code",
   "execution_count": 2,
   "id": "ad407efe-e89c-4eef-a5b9-e18e8c197f1b",
   "metadata": {},
   "outputs": [],
   "source": [
    "fruits = ['apple', 'banana', 'pineapple', 'jackfruit']\n",
    "vegetables = ['celery', 'potato', 'broccoli', 'kale']"
   ]
  },
  {
   "cell_type": "code",
   "execution_count": 3,
   "id": "7577293e-3c1a-4b53-aada-41403ea8d85f",
   "metadata": {},
   "outputs": [
    {
     "data": {
      "text/plain": [
       "True"
      ]
     },
     "execution_count": 3,
     "metadata": {},
     "output_type": "execute_result"
    }
   ],
   "source": [
    "'apple' in fruits"
   ]
  },
  {
   "cell_type": "code",
   "execution_count": 4,
   "id": "d43347e9-b645-4d9d-95bf-33af241bd297",
   "metadata": {},
   "outputs": [
    {
     "data": {
      "text/plain": [
       "False"
      ]
     },
     "execution_count": 4,
     "metadata": {},
     "output_type": "execute_result"
    }
   ],
   "source": [
    "'peach' in fruits"
   ]
  },
  {
   "cell_type": "code",
   "execution_count": 5,
   "id": "1a7b8e50-6b40-4e21-b19f-bd4a82e2951b",
   "metadata": {},
   "outputs": [
    {
     "data": {
      "text/plain": [
       "True"
      ]
     },
     "execution_count": 5,
     "metadata": {},
     "output_type": "execute_result"
    }
   ],
   "source": [
    "'peach' not in fruits"
   ]
  },
  {
   "cell_type": "code",
   "execution_count": 14,
   "id": "216ac7b5-db75-43a5-aa10-08ba032e1c72",
   "metadata": {},
   "outputs": [
    {
     "data": {
      "text/plain": [
       "True"
      ]
     },
     "execution_count": 14,
     "metadata": {},
     "output_type": "execute_result"
    }
   ],
   "source": [
    "('apple' in fruits) and ('celery' in vegetables)\n",
    "\n",
    "#AND means both must be true for python to return 'true'"
   ]
  },
  {
   "cell_type": "code",
   "execution_count": 9,
   "id": "e55ee25b-5212-4ce2-9c73-66ae4a2cc085",
   "metadata": {},
   "outputs": [
    {
     "data": {
      "text/plain": [
       "True"
      ]
     },
     "execution_count": 9,
     "metadata": {},
     "output_type": "execute_result"
    }
   ],
   "source": [
    "('apple' in fruits) and ('peach' not in fruits)"
   ]
  },
  {
   "cell_type": "code",
   "execution_count": 13,
   "id": "8d755f20-a81d-4bf0-8273-4cdec1aa729d",
   "metadata": {},
   "outputs": [
    {
     "data": {
      "text/plain": [
       "True"
      ]
     },
     "execution_count": 13,
     "metadata": {},
     "output_type": "execute_result"
    }
   ],
   "source": [
    "('apple' in fruits) or ('peach' in fruits)\n",
    "\n",
    "#OR means just 1 must be true for python to return 'true'. in this case peach in fruits is actually false"
   ]
  },
  {
   "cell_type": "code",
   "execution_count": 16,
   "id": "7daf1805-2ada-4a23-8546-61fc78c91a18",
   "metadata": {},
   "outputs": [
    {
     "data": {
      "text/plain": [
       "True"
      ]
     },
     "execution_count": 16,
     "metadata": {},
     "output_type": "execute_result"
    }
   ],
   "source": [
    "'app' in 'apple'\n",
    "\n",
    "#can check if strings are in larger strings also"
   ]
  },
  {
   "cell_type": "code",
   "execution_count": 18,
   "id": "f6b62522-ea81-4753-a3d8-f6135b55b288",
   "metadata": {},
   "outputs": [
    {
     "data": {
      "text/plain": [
       "False"
      ]
     },
     "execution_count": 18,
     "metadata": {},
     "output_type": "execute_result"
    }
   ],
   "source": [
    "3 > 10.5\n",
    "\n",
    "#can also check whether 1 number is greater than the other"
   ]
  },
  {
   "cell_type": "code",
   "execution_count": null,
   "id": "bfd65d48-c528-4052-89dc-c17d79a9a16b",
   "metadata": {},
   "outputs": [],
   "source": []
  },
  {
   "cell_type": "code",
   "execution_count": null,
   "id": "7b8bfe16-57ca-4105-ad2e-d38e5dfab15d",
   "metadata": {},
   "outputs": [],
   "source": []
  },
  {
   "attachments": {},
   "cell_type": "markdown",
   "id": "50babe20",
   "metadata": {},
   "source": [
    "# 3 Remember"
   ]
  },
  {
   "cell_type": "markdown",
   "id": "1c81b00f-02fe-471c-884b-5ad32853c0a2",
   "metadata": {},
   "source": [
    "```python\n",
    "not, in, and, or are some Python keywords that are useful in asking questions.\n",
    "```"
   ]
  },
  {
   "cell_type": "code",
   "execution_count": 23,
   "id": "f9350749-9a5b-42ef-a8e3-9ad0b9525b50",
   "metadata": {},
   "outputs": [
    {
     "data": {
      "text/plain": [
       "False"
      ]
     },
     "execution_count": 23,
     "metadata": {},
     "output_type": "execute_result"
    }
   ],
   "source": [
    "'apples' > 'oranges'\n",
    "\n",
    "#What does this mean? English letters are internally represented as numbers. \n",
    "#For example, 'a' is 97 and 'o' is 111."
   ]
  },
  {
   "attachments": {},
   "cell_type": "markdown",
   "id": "f497b4b0",
   "metadata": {},
   "source": [
    "## 3.1 Asking Math questions"
   ]
  },
  {
   "cell_type": "markdown",
   "id": "b651d63b-a872-41e5-8696-8162d86bc7d2",
   "metadata": {},
   "source": [
    "| Question/Condition          | Math Symbol | Python Symbols |\n",
    "|-----------------------------|-------------|----------------|\n",
    "| Equals?                     | =           | ==             |\n",
    "| Not equal?                  | ≠           | !=             |\n",
    "| Less than?                  | <           | <              |\n",
    "| Greater than?               | >           | >              |\n",
    "| Less than or equal?         | ≤           | <=             |\n",
    "| Greater than or equal?      | ≥           | >=             |\n",
    "\n"
   ]
  },
  {
   "cell_type": "code",
   "execution_count": 26,
   "id": "440c9410-a163-419c-9142-006b98d071da",
   "metadata": {},
   "outputs": [
    {
     "data": {
      "text/plain": [
       "True"
      ]
     },
     "execution_count": 26,
     "metadata": {},
     "output_type": "execute_result"
    }
   ],
   "source": [
    "x = 10\n",
    "\n",
    "5 < x < 15    #you can also ask python whether a number is within a certain range"
   ]
  },
  {
   "attachments": {},
   "cell_type": "markdown",
   "id": "388a6366",
   "metadata": {},
   "source": [
    "# 4 Python stores information in different formats or types"
   ]
  },
  {
   "cell_type": "code",
   "execution_count": 27,
   "id": "6fb38c75-6106-42d4-b2bc-9855036ac292",
   "metadata": {},
   "outputs": [
    {
     "name": "stdout",
     "output_type": "stream",
     "text": [
      "1 <class 'int'>\n"
     ]
    }
   ],
   "source": [
    "x = int(1.234)\n",
    "print(x, type(x))"
   ]
  },
  {
   "cell_type": "code",
   "execution_count": 30,
   "id": "a86583fc-24c1-43ef-9039-9cb2ac2eb166",
   "metadata": {},
   "outputs": [
    {
     "name": "stdout",
     "output_type": "stream",
     "text": [
      "1.234 <class 'float'>\n"
     ]
    }
   ],
   "source": [
    "x = 1.234 \n",
    "#note that it auto stores as float even if i don't specify x = float(1.234),\n",
    "#since 1.234 has decimals.\n",
    "\n",
    "print(x, type(x))"
   ]
  },
  {
   "cell_type": "code",
   "execution_count": 31,
   "id": "a624d648-b8d3-449d-8ddc-577cbeed6d0d",
   "metadata": {},
   "outputs": [
    {
     "name": "stdout",
     "output_type": "stream",
     "text": [
      "1.234 <class 'str'>\n"
     ]
    }
   ],
   "source": [
    "x = str(1.234)\n",
    "print(x, type(x))"
   ]
  },
  {
   "cell_type": "code",
   "execution_count": 33,
   "id": "b683dab7-afe8-4187-85bd-8bfcbf229a6a",
   "metadata": {},
   "outputs": [
    {
     "name": "stdout",
     "output_type": "stream",
     "text": [
      "(1.234+0j) <class 'complex'>\n"
     ]
    }
   ],
   "source": [
    "x = complex(1.234)\n",
    "\n",
    "#this will include an imaginary part of the number.\n",
    "\n",
    "print(x, type(x))"
   ]
  },
  {
   "cell_type": "code",
   "execution_count": 34,
   "id": "3ae27301-aac9-4faa-9fa7-339af7c18975",
   "metadata": {},
   "outputs": [
    {
     "name": "stdout",
     "output_type": "stream",
     "text": [
      "1.234 <class 'str'>\n"
     ]
    }
   ],
   "source": [
    "#look how can convert x from 1 type of variable to another:\n",
    "\n",
    "x = '1.234'        # x is a string\n",
    "print(x, type(x))"
   ]
  },
  {
   "cell_type": "code",
   "execution_count": 35,
   "id": "12d81aac-fa71-4ba5-a465-3f9e9236fe83",
   "metadata": {},
   "outputs": [
    {
     "name": "stdout",
     "output_type": "stream",
     "text": [
      "1.234 <class 'float'>\n"
     ]
    }
   ],
   "source": [
    "x = float(x)       # x is now a decimal number\n",
    "print(x, type(x))"
   ]
  },
  {
   "cell_type": "code",
   "execution_count": null,
   "id": "936c753f-4624-4445-b51b-3d390d0488c7",
   "metadata": {},
   "outputs": [],
   "source": []
  },
  {
   "attachments": {},
   "cell_type": "markdown",
   "id": "cc538e10",
   "metadata": {},
   "source": [
    "# 5 Never compare floats directly"
   ]
  },
  {
   "cell_type": "code",
   "execution_count": null,
   "id": "63ca75e7-3e02-493a-aba5-b904ce9da365",
   "metadata": {},
   "outputs": [],
   "source": []
  },
  {
   "cell_type": "code",
   "execution_count": null,
   "id": "00d8ee64-dab3-4e5d-b2b0-daa89e1bd77a",
   "metadata": {},
   "outputs": [],
   "source": []
  },
  {
   "attachments": {},
   "cell_type": "markdown",
   "id": "100e3cdb",
   "metadata": {},
   "source": [
    "## 5.1 The Problem"
   ]
  },
  {
   "cell_type": "code",
   "execution_count": 36,
   "id": "ca805c3f-560f-4f93-a887-f1c57eee5b9f",
   "metadata": {},
   "outputs": [
    {
     "data": {
      "text/plain": [
       "False"
      ]
     },
     "execution_count": 36,
     "metadata": {},
     "output_type": "execute_result"
    }
   ],
   "source": [
    "a = 0.1\n",
    "a3 = 0.3\n",
    "a * 3 == a3"
   ]
  },
  {
   "cell_type": "code",
   "execution_count": 40,
   "id": "195e1942-1c7f-445c-8cef-ebdf8f26d644",
   "metadata": {},
   "outputs": [
    {
     "data": {
      "text/plain": [
       "'0.29999999999999999'"
      ]
     },
     "execution_count": 40,
     "metadata": {},
     "output_type": "execute_result"
    }
   ],
   "source": [
    "f'{0.3:.17f}'\n",
    "#floats are not stored as what they seem, i.e. 0.3 is actually 0.299999..."
   ]
  },
  {
   "attachments": {},
   "cell_type": "markdown",
   "id": "b321c687",
   "metadata": {},
   "source": [
    "## 5.2 A solution"
   ]
  },
  {
   "cell_type": "code",
   "execution_count": 45,
   "id": "348cde61-919e-455a-b6e0-5ae168dfe8da",
   "metadata": {},
   "outputs": [
    {
     "data": {
      "text/plain": [
       "True"
      ]
     },
     "execution_count": 45,
     "metadata": {},
     "output_type": "execute_result"
    }
   ],
   "source": [
    "#So instead, we just check if the 2 numbers we are comparing are CLOSE.\n",
    "\n",
    "import numpy as np\n",
    "\n",
    "np.isclose(a * 3, a3)"
   ]
  },
  {
   "cell_type": "code",
   "execution_count": 48,
   "id": "295707e2-9d6d-4ac8-be87-408d22434653",
   "metadata": {},
   "outputs": [
    {
     "data": {
      "text/plain": [
       "True"
      ]
     },
     "execution_count": 48,
     "metadata": {},
     "output_type": "execute_result"
    }
   ],
   "source": [
    "#there's also this other weird way:\n",
    "#This code checks if the difference between three times the number 0.1 (which we'd expect to be 0.3)\n",
    "#and the number 0.3 is a really tiny amount, almost zero, to see if they're close enough to be \n",
    "#considered the same due to how computers handle decimal numbers.\n",
    "\n",
    "eps = 1E-10\n",
    "abs(a * 3 - a3) < eps"
   ]
  },
  {
   "cell_type": "code",
   "execution_count": null,
   "id": "4fecb73b-d1ee-4293-af2e-f6b847b7c058",
   "metadata": {},
   "outputs": [],
   "source": []
  },
  {
   "cell_type": "code",
   "execution_count": null,
   "id": "48cf0e2c-7248-4809-b880-fa3c5ae1954f",
   "metadata": {},
   "outputs": [],
   "source": []
  },
  {
   "cell_type": "code",
   "execution_count": null,
   "id": "f3f742ce-7a44-4188-ac93-5d4db1b5030a",
   "metadata": {},
   "outputs": [],
   "source": []
  },
  {
   "attachments": {},
   "cell_type": "markdown",
   "id": "673fa1cf",
   "metadata": {},
   "source": [
    "# 6 Combining English and variables"
   ]
  },
  {
   "cell_type": "code",
   "execution_count": 49,
   "id": "02dcd78b-961d-48e6-8628-692ec051de0d",
   "metadata": {},
   "outputs": [
    {
     "name": "stdout",
     "output_type": "stream",
     "text": [
      "Hello Batman!\n"
     ]
    }
   ],
   "source": [
    "name = \"Batman\"\n",
    "print(f\"Hello {name}!\")"
   ]
  },
  {
   "cell_type": "code",
   "execution_count": 52,
   "id": "f71f6cf1-9f2c-4808-91e3-8a08c30c6a1f",
   "metadata": {},
   "outputs": [
    {
     "name": "stdout",
     "output_type": "stream",
     "text": [
      "Hello BATMAN!\n"
     ]
    }
   ],
   "source": [
    "name = \"Batman\"\n",
    "print(f\"Hello {name.upper()}!\")\n",
    "\n",
    "#upper() is a function that capitalises all letters"
   ]
  },
  {
   "cell_type": "code",
   "execution_count": 53,
   "id": "f648271b-4fe9-4061-9b72-a22991a6a11b",
   "metadata": {},
   "outputs": [
    {
     "name": "stdout",
     "output_type": "stream",
     "text": [
      "Hello batman!\n"
     ]
    }
   ],
   "source": [
    "print(f\"Hello {name.lower()}!\")\n",
    "\n",
    "#there is also lower()"
   ]
  },
  {
   "cell_type": "code",
   "execution_count": 54,
   "id": "f7e3e80f-6a0d-44e0-a139-e33e53b66f5c",
   "metadata": {},
   "outputs": [
    {
     "name": "stdout",
     "output_type": "stream",
     "text": [
      "The value of 10 squared is 100!\n"
     ]
    }
   ],
   "source": [
    "x = 10\n",
    "print(f\"The value of {x} squared is {x**2}!\")"
   ]
  },
  {
   "cell_type": "markdown",
   "id": "175ce381-d84c-4fdf-8246-2b00f138485e",
   "metadata": {},
   "source": [
    "`Note the f and the { } in the above command. This is called f-string or string interpolation.`"
   ]
  },
  {
   "attachments": {},
   "cell_type": "markdown",
   "id": "8b78948f",
   "metadata": {},
   "source": [
    "## 6.1 Structure of f-strings"
   ]
  },
  {
   "cell_type": "code",
   "execution_count": 56,
   "id": "04b8a399-0892-40b2-a145-f91bb2983a6d",
   "metadata": {},
   "outputs": [
    {
     "name": "stdout",
     "output_type": "stream",
     "text": [
      "Bruce Wayne is Batman.\n"
     ]
    }
   ],
   "source": [
    "text = 'Bruce Wayne is Batman.'\n",
    "print(f'{text}')"
   ]
  },
  {
   "cell_type": "code",
   "execution_count": 57,
   "id": "c54e601b-657e-40f9-8229-9db5a76ed097",
   "metadata": {},
   "outputs": [
    {
     "name": "stdout",
     "output_type": "stream",
     "text": [
      "        Bruce Wayne is Batman.\n"
     ]
    }
   ],
   "source": [
    "print(f'{text:>30}')      # A block of 30 characters;\n",
    "                          # aligned right"
   ]
  },
  {
   "cell_type": "code",
   "execution_count": 58,
   "id": "c9017bb3-8959-4a66-bc63-8995014098d4",
   "metadata": {},
   "outputs": [
    {
     "name": "stdout",
     "output_type": "stream",
     "text": [
      "    Bruce Wayne is Batman.    \n"
     ]
    }
   ],
   "source": [
    "print(f'{text:^30}')      # A block of 30 characters;\n",
    "                          # aligned centre"
   ]
  },
  {
   "cell_type": "code",
   "execution_count": 60,
   "id": "96dc23c0-e8fa-4164-b25d-23906fb0dd5d",
   "metadata": {},
   "outputs": [
    {
     "name": "stdout",
     "output_type": "stream",
     "text": [
      "                                       Bruce Wayne is Batman.                                       \n"
     ]
    }
   ],
   "source": [
    "print(f'{text:^100}')      # A block of 100 characters;\n",
    "                          # aligned centre"
   ]
  },
  {
   "cell_type": "code",
   "execution_count": 59,
   "id": "a5fd3ccc-b7fe-4633-bf82-ec166350daf1",
   "metadata": {},
   "outputs": [
    {
     "name": "stdout",
     "output_type": "stream",
     "text": [
      "Bruce Wayne is Batman.        \n"
     ]
    }
   ],
   "source": [
    "print(f'{text:<30}')      # A block of 30 characters;\n",
    "                          # aligned left"
   ]
  },
  {
   "cell_type": "markdown",
   "id": "f475d370-92aa-4782-a5d0-57beb2338c7d",
   "metadata": {},
   "source": [
    "`Some insane stuff coming up below`"
   ]
  },
  {
   "cell_type": "code",
   "execution_count": 65,
   "id": "68c04d30-360d-43be-b5fa-9d3b2d1d3f68",
   "metadata": {},
   "outputs": [],
   "source": [
    "answer = 9/7"
   ]
  },
  {
   "cell_type": "markdown",
   "id": "330309c3-3296-4a95-b3b8-1a59154ae475",
   "metadata": {},
   "source": [
    "```python\n",
    "f-string formatting has the structure {X:>0Y.ZW}\n",
    "\n",
    "Example print(f'{answer:<30})\n",
    "- text is the variable\n",
    "- < is the alignment, align left\n",
    "- Y is the total no of chars in the line\n",
    "- Z = no of decimel places\n",
    "- W = type of variable\n",
    "```"
   ]
  },
  {
   "attachments": {},
   "cell_type": "markdown",
   "id": "c69c64ab",
   "metadata": {},
   "source": [
    "# 7 Escape sequences"
   ]
  },
  {
   "cell_type": "code",
   "execution_count": 69,
   "id": "512cc428-07ec-4a44-82ea-9554e87dfc0b",
   "metadata": {},
   "outputs": [
    {
     "name": "stdout",
     "output_type": "stream",
     "text": [
      "Line 1\n",
      "\tLine 2\n",
      "\t\tLine 3\n"
     ]
    }
   ],
   "source": [
    "print('Line 1\\n\\tLine 2\\n\\t\\tLine 3')"
   ]
  },
  {
   "cell_type": "markdown",
   "id": "b3068a1b-60af-46db-8d18-38fab56c34c5",
   "metadata": {},
   "source": [
    "```python\n",
    "\\n #means new line\n",
    "\\t #means add a tab\n",
    "```"
   ]
  },
  {
   "cell_type": "code",
   "execution_count": 77,
   "id": "6eddd5b3-9f36-480f-9a37-f7b8f7808453",
   "metadata": {},
   "outputs": [
    {
     "name": "stdout",
     "output_type": "stream",
     "text": [
      "it's\n",
      "\\\n",
      "A\\B\\C\n"
     ]
    }
   ],
   "source": [
    "#within strings, use the following to represent the following:\n",
    "\n",
    "print('it\\'s') #\\’ means single quote\n",
    "\n",
    "print('\\\\') #backslash alone requires an extra escape, if not will mess up the code coz it thinks u want type \\'\n",
    "\n",
    "print('A\\B\\C')"
   ]
  },
  {
   "cell_type": "code",
   "execution_count": 78,
   "id": "d370b611-e737-490a-9767-461ce376f82f",
   "metadata": {},
   "outputs": [
    {
     "name": "stdout",
     "output_type": "stream",
     "text": [
      "A\n",
      "B\n",
      "C\n"
     ]
    }
   ],
   "source": [
    "print('A\\nB\\nC')"
   ]
  },
  {
   "cell_type": "code",
   "execution_count": 79,
   "id": "27ff06b1-1487-4b49-ba06-a37b2dbacad6",
   "metadata": {},
   "outputs": [
    {
     "name": "stdout",
     "output_type": "stream",
     "text": [
      "A\tB\tC\n"
     ]
    }
   ],
   "source": [
    "print('A\\tB\\tC')"
   ]
  },
  {
   "cell_type": "code",
   "execution_count": null,
   "id": "80c90e5c-fa49-43e2-aa8e-b9d0219a703a",
   "metadata": {},
   "outputs": [],
   "source": []
  },
  {
   "attachments": {},
   "cell_type": "markdown",
   "id": "52175fd1",
   "metadata": {},
   "source": [
    "# 8 Computers read = from Right to Left!"
   ]
  },
  {
   "cell_type": "code",
   "execution_count": null,
   "id": "183d9b32-bc52-496e-9774-90cec4d9b48f",
   "metadata": {},
   "outputs": [],
   "source": [
    "#this is an example code\n",
    "x = 40\n",
    "y = x + 2"
   ]
  },
  {
   "cell_type": "code",
   "execution_count": 84,
   "id": "9ac8c2b5-a867-4383-8c2b-3df0758c29a6",
   "metadata": {},
   "outputs": [
    {
     "name": "stdout",
     "output_type": "stream",
     "text": [
      "42\n"
     ]
    }
   ],
   "source": [
    "#how python actually executes the instruction:\n",
    "y = 40\n",
    "y = y + 2   #now make y to be what the prev y is, plus 2.\n",
    "print(y)"
   ]
  },
  {
   "cell_type": "code",
   "execution_count": 86,
   "id": "089ec530-3a23-4988-9625-5cc23d50a12f",
   "metadata": {},
   "outputs": [
    {
     "name": "stdout",
     "output_type": "stream",
     "text": [
      "10 10\n"
     ]
    }
   ],
   "source": [
    "x = y = 10  #python allows this kind of syntax\n",
    "\n",
    "print(x,y)"
   ]
  },
  {
   "cell_type": "code",
   "execution_count": null,
   "id": "736509bb-2a7b-4b01-8e9e-dcc8612b0f2d",
   "metadata": {},
   "outputs": [],
   "source": []
  },
  {
   "attachments": {},
   "cell_type": "markdown",
   "id": "865fc1ca",
   "metadata": {},
   "source": [
    "# 9 Shorter and Cleaner Code"
   ]
  },
  {
   "cell_type": "code",
   "execution_count": 97,
   "id": "0ccb74ab-ceb1-49bd-9101-da015cb3dfd8",
   "metadata": {},
   "outputs": [
    {
     "name": "stdout",
     "output_type": "stream",
     "text": [
      "12\n",
      "10\n",
      "20\n",
      "10.0\n"
     ]
    }
   ],
   "source": [
    "y = 10\n",
    "\n",
    "y += 2    #this means y = y + 2\n",
    "print(y)\n",
    "\n",
    "y -= 2\n",
    "print(y)\n",
    "\n",
    "y*=2\n",
    "print(y)\n",
    "\n",
    "y/=2\n",
    "print(y)"
   ]
  },
  {
   "attachments": {},
   "cell_type": "markdown",
   "id": "3dd64ad8",
   "metadata": {},
   "source": [
    "# 10 Python can be a prima-donna."
   ]
  },
  {
   "cell_type": "code",
   "execution_count": 100,
   "id": "3bebdd33-46a5-4a54-b4c8-0ef7fd3a1c26",
   "metadata": {},
   "outputs": [],
   "source": [
    "#When we do something Python doesn’t like or understand, it will often act like a prima-donna\n",
    "#and throw a complaint with a looong error message.\n",
    "#As with most complaints, scroll to the end to see the real problem."
   ]
  },
  {
   "cell_type": "code",
   "execution_count": null,
   "id": "efeae9b2-3145-4eff-aace-26fbde94daa0",
   "metadata": {},
   "outputs": [],
   "source": []
  },
  {
   "attachments": {},
   "cell_type": "markdown",
   "id": "f62d38fa",
   "metadata": {},
   "source": [
    "# 11 Best Practices for Scientific Computing"
   ]
  },
  {
   "cell_type": "markdown",
   "id": "579d1b16-0731-4df8-95a0-999782de1be5",
   "metadata": {},
   "source": [
    "1. Write programs for people, not computers.\n",
    "1. Optimise software only after it works correctly.\n",
    "2. Document design and purpose, not mechanics.\n",
    "3. Collaborate."
   ]
  },
  {
   "cell_type": "code",
   "execution_count": 102,
   "id": "ee0e448f-2393-4ba8-ad34-e5d8ee044017",
   "metadata": {},
   "outputs": [],
   "source": [
    "#Always start simple and get something working first before making it perfect."
   ]
  },
  {
   "attachments": {},
   "cell_type": "markdown",
   "id": "f0f3d2a1",
   "metadata": {},
   "source": [
    "# 12 Looking for help"
   ]
  },
  {
   "cell_type": "code",
   "execution_count": 103,
   "id": "449f90dd-8149-455a-b4bb-d4eea720d653",
   "metadata": {},
   "outputs": [
    {
     "name": "stdout",
     "output_type": "stream",
     "text": [
      "Help on built-in function print in module builtins:\n",
      "\n",
      "print(*args, sep=' ', end='\\n', file=None, flush=False)\n",
      "    Prints the values to a stream, or to sys.stdout by default.\n",
      "    \n",
      "    sep\n",
      "      string inserted between values, default a space.\n",
      "    end\n",
      "      string appended after the last value, default a newline.\n",
      "    file\n",
      "      a file-like object (stream); defaults to the current sys.stdout.\n",
      "    flush\n",
      "      whether to forcibly flush the stream.\n",
      "\n"
     ]
    }
   ],
   "source": [
    "help(print)"
   ]
  },
  {
   "cell_type": "markdown",
   "id": "bef328ca-a988-4b0b-b67d-109f6ad0bf12",
   "metadata": {},
   "source": [
    "`Unfortunately, unless you already have some experience, this documentation is not the friendliest. The internet (e.g. stack overflow, Google or ChatGPT) is the fastest way to get a question about programming answered.`"
   ]
  },
  {
   "attachments": {},
   "cell_type": "markdown",
   "id": "db99c2b7",
   "metadata": {},
   "source": [
    "## References"
   ]
  },
  {
   "cell_type": "code",
   "execution_count": null,
   "id": "9ee7cf19-1ff8-4661-bd75-8dfa2794d79f",
   "metadata": {},
   "outputs": [],
   "source": []
  },
  {
   "cell_type": "code",
   "execution_count": null,
   "id": "5c633677-cac4-4ad1-8548-a36c40b1bfc7",
   "metadata": {},
   "outputs": [],
   "source": []
  },
  {
   "attachments": {},
   "cell_type": "markdown",
   "id": "d923617e",
   "metadata": {},
   "source": [
    "## Footnotes"
   ]
  },
  {
   "cell_type": "code",
   "execution_count": null,
   "id": "dd8e446f-2e7e-4b80-970f-6ce07f119ef1",
   "metadata": {},
   "outputs": [],
   "source": []
  },
  {
   "cell_type": "code",
   "execution_count": null,
   "id": "9eda72f2-cb70-4017-aa2a-782e2f9d0633",
   "metadata": {},
   "outputs": [],
   "source": []
  }
 ],
 "metadata": {
  "kernelspec": {
   "display_name": "Python 3 (ipykernel)",
   "language": "python",
   "name": "python3"
  },
  "language_info": {
   "codemirror_mode": {
    "name": "ipython",
    "version": 3
   },
   "file_extension": ".py",
   "mimetype": "text/x-python",
   "name": "python",
   "nbconvert_exporter": "python",
   "pygments_lexer": "ipython3",
   "version": "3.11.7"
  },
  "toc": {
   "base_numbering": 1,
   "nav_menu": {},
   "number_sections": true,
   "sideBar": true,
   "skip_h1_title": false,
   "title_cell": "Table of Contents",
   "title_sidebar": "Contents",
   "toc_cell": false,
   "toc_position": {},
   "toc_section_display": true,
   "toc_window_display": false
  },
  "vscode": {
   "interpreter": {
    "hash": "31f2aee4e71d21fbe5cf8b01ff0e069b9275f58929596ceb00d14d90e3e16cd6"
   }
  }
 },
 "nbformat": 4,
 "nbformat_minor": 5
}
