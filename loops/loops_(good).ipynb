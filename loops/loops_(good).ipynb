{
 "cells": [
  {
   "attachments": {},
   "cell_type": "markdown",
   "id": "123456",
   "metadata": {},
   "source": [
    "<div style=\"text-align:left;font-size:2em\"><span style=\"font-weight:bolder;font-size:1.25em\">SP2273 | Learning Portfolio</span><br><br><span style=\"font-weight:bold;color:darkred\">Loops (Good)</span></div>"
   ]
  },
  {
   "attachments": {},
   "cell_type": "markdown",
   "id": "0894bbb2",
   "metadata": {},
   "source": [
    "# What to expect in this chapter"
   ]
  },
  {
   "attachments": {},
   "cell_type": "markdown",
   "id": "07a1f190",
   "metadata": {},
   "source": [
    "# 1 Interrupting the flow"
   ]
  },
  {
   "cell_type": "code",
   "execution_count": 3,
   "id": "6f7c25b5-2a4c-4f5b-b5e1-946f2da7b7ec",
   "metadata": {},
   "outputs": [
    {
     "name": "stdout",
     "output_type": "stream",
     "text": [
      "0 1\n",
      "1 10\n",
      "2 100\n",
      "3 1000\n"
     ]
    }
   ],
   "source": [
    "for power in range(5):\n",
    "    number = 10**power\n",
    "    if number > 5000:\n",
    "        break\n",
    "    print(power, number)"
   ]
  },
  {
   "cell_type": "code",
   "execution_count": 6,
   "id": "6e23fb9f-446b-40c7-94b3-2bf6edd12e34",
   "metadata": {},
   "outputs": [
    {
     "name": "stdout",
     "output_type": "stream",
     "text": [
      "0 1\n",
      "1 10\n",
      "2 100\n",
      "4 10000\n"
     ]
    }
   ],
   "source": [
    "for power in range(5):\n",
    "    if power == 3:\n",
    "        continue        # continue means skip that loop\n",
    "                        # Don't proceed further\n",
    "                        # IN THE CURRENT LOOP\n",
    "                        # if i == 3\n",
    "    number = 10**power\n",
    "    print(power, number)"
   ]
  },
  {
   "cell_type": "code",
   "execution_count": 5,
   "id": "7fed17da-70f4-4d78-84fb-a5d79b4ad58b",
   "metadata": {},
   "outputs": [
    {
     "name": "stdout",
     "output_type": "stream",
     "text": [
      "1\n",
      "3\n",
      "5\n",
      "7\n",
      "9\n"
     ]
    }
   ],
   "source": [
    "for number in range(10):\n",
    "    # Don't proceed if the remainder is zero\n",
    "    # I.e. if the number is even\n",
    "    if number % 2 == 0:\n",
    "        continue\n",
    "    print(number)"
   ]
  },
  {
   "cell_type": "code",
   "execution_count": 7,
   "id": "a20190fa-b334-4493-992d-d916da78c892",
   "metadata": {},
   "outputs": [
    {
     "name": "stdout",
     "output_type": "stream",
     "text": [
      "0\n",
      "1\n",
      "2\n",
      "3\n",
      "4\n"
     ]
    }
   ],
   "source": [
    "number=0\n",
    "\n",
    "while True:\n",
    "    print(number)\n",
    "    number += 1\n",
    "    if number > 4: break"
   ]
  },
  {
   "attachments": {},
   "cell_type": "markdown",
   "id": "fbafb61e",
   "metadata": {},
   "source": [
    "# 2 List comprehension!"
   ]
  },
  {
   "attachments": {},
   "cell_type": "markdown",
   "id": "0776dc3e",
   "metadata": {},
   "source": [
    "## 2.1 Basic syntax"
   ]
  },
  {
   "cell_type": "code",
   "execution_count": 8,
   "id": "3e41ff84-0e04-4177-983d-8f662d35cc24",
   "metadata": {},
   "outputs": [
    {
     "data": {
      "text/plain": [
       "[0, 1, 2, 3, 4]"
      ]
     },
     "execution_count": 8,
     "metadata": {},
     "output_type": "execute_result"
    }
   ],
   "source": [
    "[number for number in range(5)]"
   ]
  },
  {
   "cell_type": "code",
   "execution_count": 10,
   "id": "4c7a194d-366e-4c1d-880c-a5a90e3fb0d8",
   "metadata": {},
   "outputs": [
    {
     "data": {
      "text/plain": [
       "[0, 1, 4, 9, 16]"
      ]
     },
     "execution_count": 10,
     "metadata": {},
     "output_type": "execute_result"
    }
   ],
   "source": [
    "[number**2 for number in range(5)]"
   ]
  },
  {
   "attachments": {},
   "cell_type": "markdown",
   "id": "415e5669",
   "metadata": {},
   "source": [
    "## 2.2 List comprehension with conditions"
   ]
  },
  {
   "cell_type": "code",
   "execution_count": 12,
   "id": "f78319c0-f332-4e6b-9021-d6d29c122b04",
   "metadata": {},
   "outputs": [
    {
     "data": {
      "text/plain": [
       "[0, 2, 4, 6, 8]"
      ]
     },
     "execution_count": 12,
     "metadata": {},
     "output_type": "execute_result"
    }
   ],
   "source": [
    "[number for number in range(10) if number % 2 ==0]"
   ]
  },
  {
   "cell_type": "code",
   "execution_count": null,
   "id": "1df2dbf2-51e9-408c-a488-16b59da5e6f9",
   "metadata": {},
   "outputs": [],
   "source": []
  },
  {
   "attachments": {},
   "cell_type": "markdown",
   "id": "13ea98b1",
   "metadata": {},
   "source": [
    "# 3 Other useful stuff"
   ]
  },
  {
   "attachments": {},
   "cell_type": "markdown",
   "id": "52489a4f",
   "metadata": {},
   "source": [
    "## 3.1 for with unpacking"
   ]
  },
  {
   "cell_type": "code",
   "execution_count": 13,
   "id": "b9d84d9c-9c50-49e1-9684-98e8aec0e50f",
   "metadata": {},
   "outputs": [
    {
     "name": "stdout",
     "output_type": "stream",
     "text": [
      "x = 1, y = 2, z = 3\n"
     ]
    }
   ],
   "source": [
    "x, y, z=[1, 2, 3]\n",
    "print(f'x = {x}, y = {y}, z = {z}')"
   ]
  },
  {
   "cell_type": "code",
   "execution_count": 14,
   "id": "f7e4419b-2036-4ec9-a154-4363f1a14101",
   "metadata": {},
   "outputs": [
    {
     "name": "stdout",
     "output_type": "stream",
     "text": [
      "Natasha Romanoff is Marvel's Black Widow!\n",
      "Tony Stark is Marvel's Iron Man!\n",
      "Stephen Strange is Marvel's Doctor Strange!\n"
     ]
    }
   ],
   "source": [
    "py_superhero_info = [['Natasha Romanoff', 'Black Widow'],\n",
    "                     ['Tony Stark', 'Iron Man'],\n",
    "                     ['Stephen Strange', 'Doctor Strange']]\n",
    "\n",
    "for real_name, super_name in py_superhero_info:\n",
    "    print(f\"{real_name} is Marvel's {super_name}!\")"
   ]
  },
  {
   "attachments": {},
   "cell_type": "markdown",
   "id": "7a58f593",
   "metadata": {},
   "source": [
    "## 3.2 for with zip()"
   ]
  },
  {
   "cell_type": "code",
   "execution_count": 15,
   "id": "33b5c762-b91c-4df1-981c-dfe81f4ed673",
   "metadata": {},
   "outputs": [
    {
     "name": "stdout",
     "output_type": "stream",
     "text": [
      "Natasha Romanoff is Marvel's Black Widow!\n",
      "Tony Stark is Marvel's Iron Man!\n",
      "Stephen Strange is Marvel's Doctor Strange!\n"
     ]
    }
   ],
   "source": [
    "super_names = [\"Black Widow\", \"Iron Man\", \"Doctor Strange\"]\n",
    "real_names = [\"Natasha Romanoff\", \"Tony Stark\", \"Stephen Strange\"]\n",
    "\n",
    "for real_name, super_name in zip(real_names,super_names):\n",
    "    print(f\"{real_name} is Marvel's {super_name}!\")"
   ]
  },
  {
   "cell_type": "code",
   "execution_count": 27,
   "id": "6c4c710d-30a7-42fa-a520-059fe3b64fd6",
   "metadata": {},
   "outputs": [
    {
     "data": {
      "text/plain": [
       "[('Natasha Romanoff', 'Black Widow'),\n",
       " ('Tony Stark', 'Iron Man'),\n",
       " ('Stephen Strange', 'Doctor Strange')]"
      ]
     },
     "execution_count": 27,
     "metadata": {},
     "output_type": "execute_result"
    }
   ],
   "source": [
    "list(zip(real_names,super_names))"
   ]
  },
  {
   "attachments": {},
   "cell_type": "markdown",
   "id": "3c256b6b",
   "metadata": {},
   "source": [
    "## 3.3 for with dictionaries"
   ]
  },
  {
   "cell_type": "code",
   "execution_count": 24,
   "id": "b3cd8639-b1ee-4d51-85b5-bfcbafb8a16d",
   "metadata": {},
   "outputs": [
    {
     "name": "stdout",
     "output_type": "stream",
     "text": [
      "Natasha Romanoff is Marvel's Black Widow!\n",
      "Tony Stark is Marvel's Iron Man!\n",
      "Stephen Strange is Marvel's Doctor Strange!\n"
     ]
    }
   ],
   "source": [
    "superhero_info={\"Natasha Romanoff\": \"Black Widow\",\n",
    "                \"Tony Stark\": \"Iron Man\",\n",
    "                \"Stephen Strange\": \"Doctor Strange\"}\n",
    "\n",
    "for key, value in superhero_info.items():\n",
    "    print(f\"{key} is Marvel's {value}!\")"
   ]
  },
  {
   "cell_type": "code",
   "execution_count": 25,
   "id": "fbe6bf6a-3163-4d9d-a78a-4c008e67d1fd",
   "metadata": {},
   "outputs": [
    {
     "name": "stdout",
     "output_type": "stream",
     "text": [
      "Natasha Romanoff is Marvel's Black Widow!\n",
      "Tony Stark is Marvel's Iron Man!\n",
      "Stephen Strange is Marvel's Doctor Strange!\n"
     ]
    }
   ],
   "source": [
    "for key in superhero_info.keys():\n",
    "    value=superhero_info[key]\n",
    "    print(f\"{key} is Marvel's {value}!\")"
   ]
  },
  {
   "attachments": {},
   "cell_type": "markdown",
   "id": "4164aa6f",
   "metadata": {},
   "source": [
    "## Footnotes"
   ]
  }
 ],
 "metadata": {
  "kernelspec": {
   "display_name": "Python 3 (ipykernel)",
   "language": "python",
   "name": "python3"
  },
  "language_info": {
   "codemirror_mode": {
    "name": "ipython",
    "version": 3
   },
   "file_extension": ".py",
   "mimetype": "text/x-python",
   "name": "python",
   "nbconvert_exporter": "python",
   "pygments_lexer": "ipython3",
   "version": "3.11.7"
  },
  "toc": {
   "base_numbering": 1,
   "nav_menu": {},
   "number_sections": true,
   "sideBar": true,
   "skip_h1_title": false,
   "title_cell": "Table of Contents",
   "title_sidebar": "Contents",
   "toc_cell": false,
   "toc_position": {},
   "toc_section_display": true,
   "toc_window_display": false
  },
  "vscode": {
   "interpreter": {
    "hash": "31f2aee4e71d21fbe5cf8b01ff0e069b9275f58929596ceb00d14d90e3e16cd6"
   }
  }
 },
 "nbformat": 4,
 "nbformat_minor": 5
}
