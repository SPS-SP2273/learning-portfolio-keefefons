{
 "cells": [
  {
   "attachments": {},
   "cell_type": "markdown",
   "id": "123456",
   "metadata": {},
   "source": [
    "<div style=\"text-align:left;font-size:2em\"><span style=\"font-weight:bolder;font-size:1.25em\">SP2273 | Learning Portfolio | Keefe Fonseka</span><br><br><span style=\"font-weight:bold;color:darkred\">Functions (Need) Exercises</span></div>"
   ]
  },
  {
   "cell_type": "markdown",
   "id": "16241ced-a19d-43fa-8298-457614f5209c",
   "metadata": {},
   "source": [
    "# Exercise 1"
   ]
  },
  {
   "cell_type": "code",
   "execution_count": 2,
   "id": "3ba35dd0-3ed4-4fde-ab58-b63990104165",
   "metadata": {},
   "outputs": [],
   "source": [
    "def greeting(name):\n",
    "    if name == 'Batman':\n",
    "        return 'Hello Batman! So, nice to meet you!'\n",
    "    return f'Hello {name}!'"
   ]
  },
  {
   "cell_type": "code",
   "execution_count": 10,
   "id": "91acdab0-45a3-424e-99d1-6c8981e981d2",
   "metadata": {},
   "outputs": [
    {
     "name": "stdout",
     "output_type": "stream",
     "text": [
      "Hello Bob!\n"
     ]
    }
   ],
   "source": [
    "print(greeting('Bob'))"
   ]
  },
  {
   "cell_type": "code",
   "execution_count": 11,
   "id": "fa27f5fb-c729-40cb-893e-2255b0391a09",
   "metadata": {},
   "outputs": [
    {
     "name": "stdout",
     "output_type": "stream",
     "text": [
      "Hello Batman! So, nice to meet you!\n"
     ]
    }
   ],
   "source": [
    "print(greeting('Batman'))"
   ]
  },
  {
   "cell_type": "markdown",
   "id": "520f8914-6de8-4257-a25d-6ad4379027be",
   "metadata": {},
   "source": [
    "**Even though there's no \"else\" statement, the code still works because if the name is not 'Batman', it automatically goes to the second line and returns a greeting using the provided name.**"
   ]
  },
  {
   "cell_type": "markdown",
   "id": "0b9ed3bb-8637-4c91-87a8-bc46e3ac4dae",
   "metadata": {},
   "source": [
    "# Exercise 2"
   ]
  },
  {
   "cell_type": "code",
   "execution_count": 3,
   "id": "18ccc5c6-cfeb-4128-b9ee-c945d9f91232",
   "metadata": {},
   "outputs": [],
   "source": [
    "def calculate_bmi(weight, height):\n",
    "    bmi = weight / (height ** 2)\n",
    "    if bmi < 18.5:\n",
    "        return \"Underweight\"\n",
    "    elif 18.5 <= bmi <= 24.9:\n",
    "        return \"Normal weight\"\n",
    "    elif 25 <= bmi <= 29.9:\n",
    "        return \"Overweight\"\n",
    "    else:\n",
    "        return \"Obesity\""
   ]
  },
  {
   "cell_type": "code",
   "execution_count": 8,
   "id": "f6270ef1-533b-466d-84f8-2499ae85758a",
   "metadata": {},
   "outputs": [
    {
     "name": "stdin",
     "output_type": "stream",
     "text": [
      "Enter weight in kg 70\n",
      "Enter height in meters 1.2\n"
     ]
    },
    {
     "name": "stdout",
     "output_type": "stream",
     "text": [
      "BMI category: Obesity\n"
     ]
    }
   ],
   "source": [
    "#example\n",
    "\n",
    "weight = int(input('Enter weight in kg'))\n",
    "height = float(input('Enter height in meters'))\n",
    "\n",
    "bmi_category = calculate_bmi(weight, height)\n",
    "\n",
    "print(\"BMI category:\", bmi_category)"
   ]
  },
  {
   "cell_type": "code",
   "execution_count": null,
   "id": "034330a5-5553-45f3-b413-2934221a7ef4",
   "metadata": {},
   "outputs": [],
   "source": []
  }
 ],
 "metadata": {
  "kernelspec": {
   "display_name": "Python 3 (ipykernel)",
   "language": "python",
   "name": "python3"
  },
  "language_info": {
   "codemirror_mode": {
    "name": "ipython",
    "version": 3
   },
   "file_extension": ".py",
   "mimetype": "text/x-python",
   "name": "python",
   "nbconvert_exporter": "python",
   "pygments_lexer": "ipython3",
   "version": "3.11.7"
  },
  "toc": {
   "base_numbering": 1,
   "nav_menu": {},
   "number_sections": true,
   "sideBar": true,
   "skip_h1_title": false,
   "title_cell": "Table of Contents",
   "title_sidebar": "Contents",
   "toc_cell": false,
   "toc_position": {},
   "toc_section_display": true,
   "toc_window_display": false
  },
  "vscode": {
   "interpreter": {
    "hash": "31f2aee4e71d21fbe5cf8b01ff0e069b9275f58929596ceb00d14d90e3e16cd6"
   }
  }
 },
 "nbformat": 4,
 "nbformat_minor": 5
}
