{
 "cells": [
  {
   "attachments": {},
   "cell_type": "markdown",
   "id": "123456",
   "metadata": {},
   "source": [
    "<div style=\"text-align:left;font-size:2em\"><span style=\"font-weight:bolder;font-size:1.25em\">SP2273 | Learning Portfolio | Keefe Fonseka</span><br><br><span style=\"font-weight:bold;color:darkred\">Functions (Good) Exercises</span></div>"
   ]
  },
  {
   "cell_type": "markdown",
   "id": "42f9c627-aa8f-43f6-a20c-2e4c6657415b",
   "metadata": {},
   "source": [
    "## Exercise 1 (Celsius to Fahrenheit or Kelvin) "
   ]
  },
  {
   "cell_type": "code",
   "execution_count": 1,
   "id": "b438b0d6-e52e-4067-b4fb-1b34171edcbf",
   "metadata": {},
   "outputs": [],
   "source": [
    "def convert_celsius(temperature_celsius, target_scale='Fahrenheit'):\n",
    "    if target_scale == 'Kelvin':\n",
    "        return temperature_celsius + 273.15\n",
    "    elif target_scale == 'Fahrenheit':\n",
    "        return (temperature_celsius * 9/5) + 32\n",
    "    else:\n",
    "        return None  # Handle invalid target_scale inputs\n"
   ]
  },
  {
   "cell_type": "code",
   "execution_count": 5,
   "id": "ff21e147-891a-4a5e-8ef8-c1033e5962fb",
   "metadata": {},
   "outputs": [
    {
     "name": "stdout",
     "output_type": "stream",
     "text": [
      "68.0\n",
      "293.15\n"
     ]
    }
   ],
   "source": [
    "# Convert 20 degrees Celsius to Fahrenheit\n",
    "print(convert_celsius(20, 'Fahrenheit'))\n",
    "\n",
    "# Convert 20 degrees Celsius to Kelvin\n",
    "print(convert_celsius(20, 'Kelvin'))\n"
   ]
  },
  {
   "cell_type": "code",
   "execution_count": null,
   "id": "ed6ae5ea-a70f-4265-9213-caac50136ffe",
   "metadata": {},
   "outputs": [],
   "source": []
  },
  {
   "cell_type": "markdown",
   "id": "ea3fe818-6c68-4194-81e7-8a1fdd7dab76",
   "metadata": {},
   "source": [
    "## Exercise 2 (Fahrenheit to Celsius or Kelvin)"
   ]
  },
  {
   "cell_type": "code",
   "execution_count": 6,
   "id": "75fd2a83-1ec6-478a-9eb7-4b6db1843ffa",
   "metadata": {},
   "outputs": [],
   "source": [
    "def convert_fahrenheit(temperature_fahrenheit, target_scale='Celsius'):\n",
    "    if target_scale == 'Kelvin':\n",
    "        return (temperature_fahrenheit - 32) * 5/9 + 273.15\n",
    "    elif target_scale == 'Celsius':\n",
    "        return (temperature_fahrenheit - 32) * 5/9\n",
    "    else:\n",
    "        return None  # Handle invalid target_scale inputs\n"
   ]
  },
  {
   "cell_type": "code",
   "execution_count": 9,
   "id": "9e426dc2-738d-4bed-be9f-781865c47b38",
   "metadata": {},
   "outputs": [
    {
     "name": "stdout",
     "output_type": "stream",
     "text": [
      "20.0\n",
      "293.15\n"
     ]
    }
   ],
   "source": [
    "# Convert 68 degrees Fahrenheit to Celsius\n",
    "print(convert_fahrenheit(68 ,'Celsius'))  \n",
    "\n",
    "# Convert 68 degrees Fahrenheit to Kelvin\n",
    "print(convert_fahrenheit(68, 'Kelvin'))  \n"
   ]
  },
  {
   "cell_type": "markdown",
   "id": "5b37c61b-8eda-4c87-a5a5-956c8d9ce521",
   "metadata": {},
   "source": [
    "## Exercise 3 (General Temperature Conversion)"
   ]
  },
  {
   "cell_type": "code",
   "execution_count": 13,
   "id": "f551b53e-e556-4cd1-b8c2-8efefad210ac",
   "metadata": {},
   "outputs": [],
   "source": [
    "def convert_temperature(temperature, source_scale, target_scale):\n",
    "    if source_scale == 'Celsius':\n",
    "        celsius_temp = temperature\n",
    "    elif source_scale == 'Fahrenheit':\n",
    "        celsius_temp = (temperature - 32) * 5/9\n",
    "    elif source_scale == 'Kelvin':\n",
    "        celsius_temp = temperature - 273.15\n",
    "    else:\n",
    "        return None  # Handle invalid source_scale inputs\n",
    "    \n",
    "    if target_scale == 'Celsius':\n",
    "        return celsius_temp\n",
    "    elif target_scale == 'Fahrenheit':\n",
    "        return convert_celsius(celsius_temp, 'Fahrenheit')\n",
    "    elif target_scale == 'Kelvin':\n",
    "        return celsius_temp + 273.15\n",
    "    else:\n",
    "        return None  # Handle invalid target_scale inputs\n"
   ]
  },
  {
   "cell_type": "code",
   "execution_count": 14,
   "id": "fefe7fa2-a983-49c5-abf2-8c06bd98094c",
   "metadata": {},
   "outputs": [
    {
     "name": "stdout",
     "output_type": "stream",
     "text": [
      "20.0\n",
      "293.15\n"
     ]
    }
   ],
   "source": [
    "\n",
    "# Convert 68 degrees Fahrenheit to Celsius\n",
    "print(convert_temperature(68, 'Fahrenheit', 'Celsius'))\n",
    "\n",
    "# Convert 20 degrees Celsius to Kelvin\n",
    "print(convert_temperature(20, 'Celsius', 'Kelvin'))\n"
   ]
  },
  {
   "cell_type": "code",
   "execution_count": null,
   "id": "31a51fc8-b634-4ce0-9682-4ddd8294df8d",
   "metadata": {},
   "outputs": [],
   "source": []
  }
 ],
 "metadata": {
  "kernelspec": {
   "display_name": "Python 3 (ipykernel)",
   "language": "python",
   "name": "python3"
  },
  "language_info": {
   "codemirror_mode": {
    "name": "ipython",
    "version": 3
   },
   "file_extension": ".py",
   "mimetype": "text/x-python",
   "name": "python",
   "nbconvert_exporter": "python",
   "pygments_lexer": "ipython3",
   "version": "3.11.7"
  },
  "toc": {
   "base_numbering": 1,
   "nav_menu": {},
   "number_sections": true,
   "sideBar": true,
   "skip_h1_title": false,
   "title_cell": "Table of Contents",
   "title_sidebar": "Contents",
   "toc_cell": false,
   "toc_position": {},
   "toc_section_display": true,
   "toc_window_display": false
  },
  "vscode": {
   "interpreter": {
    "hash": "31f2aee4e71d21fbe5cf8b01ff0e069b9275f58929596ceb00d14d90e3e16cd6"
   }
  }
 },
 "nbformat": 4,
 "nbformat_minor": 5
}
